{
 "cells": [
  {
   "cell_type": "code",
   "execution_count": 1,
   "id": "initial_id",
   "metadata": {
    "collapsed": true,
    "ExecuteTime": {
     "end_time": "2024-03-11T12:34:00.163027Z",
     "start_time": "2024-03-11T12:33:58.603828Z"
    }
   },
   "outputs": [],
   "source": [
    "import flax.linen as nn\n",
    "import jax, jax.numpy as jnp"
   ]
  },
  {
   "cell_type": "code",
   "outputs": [],
   "source": [
    "training_epochs = 4000\n",
    "training_time_steps = 10\n",
    "training_datasize = 20480"
   ],
   "metadata": {
    "collapsed": false,
    "ExecuteTime": {
     "end_time": "2024-03-11T12:38:09.083422Z",
     "start_time": "2024-03-11T12:38:09.080882Z"
    }
   },
   "id": "d4adebfa5f140069",
   "execution_count": 2
  },
  {
   "cell_type": "code",
   "outputs": [
    {
     "data": {
      "text/plain": "Array([[[-0.02776539, -0.09947269, -0.35887945, ...,  0.1575224 ,\n          0.02195803,  0.01176363],\n        [-0.06707337, -0.10323231, -0.49960035, ...,  0.21516931,\n          0.02352902,  0.00946351],\n        [-0.10023084, -0.08195096, -0.565464  , ...,  0.23122399,\n          0.02382251,  0.00786299],\n        ...,\n        [-0.14599933, -0.05934289, -0.6633949 , ...,  0.24032372,\n          0.02364738,  0.01068131],\n        [-0.14599778, -0.05934377, -0.66339415, ...,  0.2403252 ,\n          0.02364752,  0.01068177],\n        [-0.14599648, -0.05934456, -0.66339356, ...,  0.2403265 ,\n          0.02364765,  0.01068216]],\n\n       [[-0.02776539, -0.09947269, -0.35887945, ...,  0.1575224 ,\n          0.02195803,  0.01176363],\n        [-0.06707337, -0.10323231, -0.49960035, ...,  0.21516931,\n          0.02352902,  0.00946351],\n        [-0.10023084, -0.08195096, -0.565464  , ...,  0.23122399,\n          0.02382251,  0.00786299],\n        ...,\n        [-0.14599933, -0.05934289, -0.6633949 , ...,  0.24032372,\n          0.02364738,  0.01068131],\n        [-0.14599778, -0.05934377, -0.66339415, ...,  0.2403252 ,\n          0.02364752,  0.01068177],\n        [-0.14599648, -0.05934456, -0.66339356, ...,  0.2403265 ,\n          0.02364765,  0.01068216]],\n\n       [[-0.02776539, -0.09947269, -0.35887945, ...,  0.1575224 ,\n          0.02195803,  0.01176363],\n        [-0.06707337, -0.10323231, -0.49960035, ...,  0.21516931,\n          0.02352902,  0.00946351],\n        [-0.10023084, -0.08195096, -0.565464  , ...,  0.23122399,\n          0.02382251,  0.00786299],\n        ...,\n        [-0.14599933, -0.05934289, -0.6633949 , ...,  0.24032372,\n          0.02364738,  0.01068131],\n        [-0.14599778, -0.05934377, -0.66339415, ...,  0.2403252 ,\n          0.02364752,  0.01068177],\n        [-0.14599648, -0.05934456, -0.66339356, ...,  0.2403265 ,\n          0.02364765,  0.01068216]],\n\n       ...,\n\n       [[-0.02776539, -0.09947269, -0.35887945, ...,  0.1575224 ,\n          0.02195803,  0.01176363],\n        [-0.06707337, -0.10323231, -0.49960035, ...,  0.21516931,\n          0.02352902,  0.00946351],\n        [-0.10023084, -0.08195096, -0.565464  , ...,  0.23122399,\n          0.02382251,  0.00786299],\n        ...,\n        [-0.14599933, -0.05934289, -0.6633949 , ...,  0.24032372,\n          0.02364738,  0.01068131],\n        [-0.14599778, -0.05934377, -0.66339415, ...,  0.2403252 ,\n          0.02364752,  0.01068177],\n        [-0.14599648, -0.05934456, -0.66339356, ...,  0.2403265 ,\n          0.02364765,  0.01068216]],\n\n       [[-0.02776539, -0.09947269, -0.35887945, ...,  0.1575224 ,\n          0.02195803,  0.01176363],\n        [-0.06707337, -0.10323231, -0.49960035, ...,  0.21516931,\n          0.02352902,  0.00946351],\n        [-0.10023084, -0.08195096, -0.565464  , ...,  0.23122399,\n          0.02382251,  0.00786299],\n        ...,\n        [-0.14599933, -0.05934289, -0.6633949 , ...,  0.24032372,\n          0.02364738,  0.01068131],\n        [-0.14599778, -0.05934377, -0.66339415, ...,  0.2403252 ,\n          0.02364752,  0.01068177],\n        [-0.14599648, -0.05934456, -0.66339356, ...,  0.2403265 ,\n          0.02364765,  0.01068216]],\n\n       [[-0.02776539, -0.09947269, -0.35887945, ...,  0.1575224 ,\n          0.02195803,  0.01176363],\n        [-0.06707337, -0.10323231, -0.49960035, ...,  0.21516931,\n          0.02352902,  0.00946351],\n        [-0.10023084, -0.08195096, -0.565464  , ...,  0.23122399,\n          0.02382251,  0.00786299],\n        ...,\n        [-0.14599933, -0.05934289, -0.6633949 , ...,  0.24032372,\n          0.02364738,  0.01068131],\n        [-0.14599778, -0.05934377, -0.66339415, ...,  0.2403252 ,\n          0.02364752,  0.01068177],\n        [-0.14599648, -0.05934456, -0.66339356, ...,  0.2403265 ,\n          0.02364765,  0.01068216]]], dtype=float32)"
     },
     "execution_count": 11,
     "metadata": {},
     "output_type": "execute_result"
    }
   ],
   "source": [
    "# (batch, time, features)\n",
    "x = jnp.ones((10, 50, 32)).astype('float32')\n",
    "lstm = nn.RNN(nn.LSTMCell(64))\n",
    "variables = lstm.init(jax.random.key(0), x)\n",
    "y = lstm.apply(variables, x)\n",
    "y"
   ],
   "metadata": {
    "collapsed": false,
    "ExecuteTime": {
     "end_time": "2024-03-11T12:44:36.183112Z",
     "start_time": "2024-03-11T12:44:35.981089Z"
    }
   },
   "id": "2d2a891ad3960d75",
   "execution_count": 11
  },
  {
   "cell_type": "code",
   "outputs": [],
   "source": [
    "class Model(nn.Module):\n",
    "    lstm_features: int\n",
    "    action_embedding_dimension: int\n",
    "    \n",
    "    @nn.compact\n",
    "    def __call__(self, x, train):\n",
    "        # x shape should be (batch, time, features)\n",
    "        # features is x, xdot, v, vdot, t\n",
    "        x = nn.RNN(nn.LSTMCell(features=self.lstm_features))(x)\n",
    "        \n",
    "        # Dropout during training\n",
    "        x = nn.Dropout(0.3, deterministic=not train)(x)\n",
    "        \n",
    "        # Is this actually what we want or are we misunderstanding the problem\n",
    "        x = x.reshape((x.shape[0], -1))\n",
    "        x = nn.Dense(self.action_embedding_dimension)(x)\n",
    "        return x"
   ],
   "metadata": {
    "collapsed": false,
    "ExecuteTime": {
     "end_time": "2024-03-11T14:46:01.376525Z",
     "start_time": "2024-03-11T14:46:01.372754Z"
    }
   },
   "id": "7193654465da295b",
   "execution_count": 149
  },
  {
   "cell_type": "code",
   "outputs": [],
   "source": [
    "model = Model(lstm_features=10, action_embedding_dimension=3)"
   ],
   "metadata": {
    "collapsed": false,
    "ExecuteTime": {
     "end_time": "2024-03-11T14:46:01.668186Z",
     "start_time": "2024-03-11T14:46:01.665373Z"
    }
   },
   "id": "43b24dd9309615b7",
   "execution_count": 150
  },
  {
   "cell_type": "code",
   "outputs": [],
   "source": [
    "x = jnp.ones((100, 100, 2)).astype('float32')\n",
    "# We pass a sample input data into hte init function as\n",
    "variables = model.init(jax.random.key(0), jnp.ones_like(x), train=False)\n",
    "y = model.apply(variables, x, False)"
   ],
   "metadata": {
    "collapsed": false,
    "ExecuteTime": {
     "end_time": "2024-03-11T14:41:02.737376Z",
     "start_time": "2024-03-11T14:41:02.534096Z"
    }
   },
   "id": "c9fb6e4171c5db1",
   "execution_count": 122
  },
  {
   "cell_type": "code",
   "outputs": [
    {
     "data": {
      "text/plain": "(100, 3)"
     },
     "execution_count": 124,
     "metadata": {},
     "output_type": "execute_result"
    }
   ],
   "source": [
    "y.shape"
   ],
   "metadata": {
    "collapsed": false,
    "ExecuteTime": {
     "end_time": "2024-03-11T14:41:06.775249Z",
     "start_time": "2024-03-11T14:41:06.770687Z"
    }
   },
   "id": "5296942af7288fca",
   "execution_count": 124
  },
  {
   "cell_type": "code",
   "outputs": [
    {
     "data": {
      "text/plain": "(100, 3)"
     },
     "execution_count": 112,
     "metadata": {},
     "output_type": "execute_result"
    }
   ],
   "source": [
    "y.shape"
   ],
   "metadata": {
    "collapsed": false,
    "ExecuteTime": {
     "end_time": "2024-03-11T14:38:28.559393Z",
     "start_time": "2024-03-11T14:38:28.556472Z"
    }
   },
   "id": "a6a19710ccd0bf06",
   "execution_count": 112
  },
  {
   "cell_type": "code",
   "outputs": [],
   "source": [
    "# Same as JAX version but using model.apply().\n",
    "@jax.jit\n",
    "def mse2(params, x_batched, y_batched):\n",
    "  # Define the squared loss for a single pair (x,y)\n",
    "  def squared_error(x, y):\n",
    "    pred = model.apply(params, x, train=True, rngs={'dropout': jax.random.key(1)})\n",
    "    return jnp.inner(y-pred, y-pred) / 2.0\n",
    "  # Vectorize the previous to compute the average of the loss on all samples.\n",
    "  return jnp.mean(jax.vmap(squared_error)(x_batched,y_batched), axis=0)"
   ],
   "metadata": {
    "collapsed": false,
    "ExecuteTime": {
     "end_time": "2024-03-11T14:47:22.968478Z",
     "start_time": "2024-03-11T14:47:22.965436Z"
    }
   },
   "id": "a7ea27a4d269e5cb",
   "execution_count": 160
  },
  {
   "cell_type": "code",
   "outputs": [],
   "source": [
    "learning_rate = 0.3"
   ],
   "metadata": {
    "collapsed": false,
    "ExecuteTime": {
     "end_time": "2024-03-11T14:38:12.336590Z",
     "start_time": "2024-03-11T14:38:12.334622Z"
    }
   },
   "id": "4a1b90131817f414",
   "execution_count": 101
  },
  {
   "cell_type": "code",
   "outputs": [],
   "source": [
    "import optax\n",
    "import numpy as np\n",
    "\n",
    "tx = optax.adam(learning_rate=learning_rate)\n",
    "opt_state = tx.init(variables)\n",
    "loss_grad_fn = jax.value_and_grad(mse2)"
   ],
   "metadata": {
    "collapsed": false,
    "ExecuteTime": {
     "end_time": "2024-03-11T14:47:40.279664Z",
     "start_time": "2024-03-11T14:47:40.274023Z"
    }
   },
   "id": "f55bc399bb8e36b2",
   "execution_count": 161
  },
  {
   "cell_type": "code",
   "outputs": [
    {
     "data": {
      "text/plain": "(20480, 41, 2)"
     },
     "execution_count": 133,
     "metadata": {},
     "output_type": "execute_result"
    }
   ],
   "source": [
    "x_samples = jnp.load('/Users/joshuacoles/Developer/checkouts/fyp/slimplectic-jax/nn/xData_lowNoise.npy').astype('float32')\n",
    "np.array(x_samples).shape"
   ],
   "metadata": {
    "collapsed": false,
    "ExecuteTime": {
     "end_time": "2024-03-11T14:42:55.060812Z",
     "start_time": "2024-03-11T14:42:55.041582Z"
    }
   },
   "id": "bf0670a0e4761e5c",
   "execution_count": 133
  },
  {
   "cell_type": "code",
   "outputs": [
    {
     "data": {
      "text/plain": "Array([[ 15.913245  ,  -4.2763476 , -10.811048  ],\n       [ -0.8697091 ,   2.8883822 ,  -8.701813  ],\n       [ -0.91460717,   3.2345715 ,  11.649809  ],\n       ...,\n       [-18.918459  , -10.682423  ,  17.807985  ],\n       [-16.834541  , -14.153472  ,   6.4526916 ],\n       [-17.413532  ,  17.312805  ,   2.3421843 ]], dtype=float32)"
     },
     "execution_count": 134,
     "metadata": {},
     "output_type": "execute_result"
    }
   ],
   "source": [
    "y_samples = jnp.load('/Users/joshuacoles/Developer/checkouts/fyp/slimplectic-jax/nn/yData_lowNoise.npy').astype('float32')\n",
    "y_samples"
   ],
   "metadata": {
    "collapsed": false,
    "ExecuteTime": {
     "end_time": "2024-03-11T14:42:55.618974Z",
     "start_time": "2024-03-11T14:42:55.604579Z"
    }
   },
   "id": "ce4b2bbd39161ece",
   "execution_count": 134
  },
  {
   "cell_type": "code",
   "outputs": [],
   "source": [
    "init_rngs = {'params': jax.random.key(0), 'dropout': jax.random.key(1)}\n",
    "params = model.init(init_rngs, jnp.ones_like(x_samples).astype('float32'), train=False)"
   ],
   "metadata": {
    "collapsed": false,
    "ExecuteTime": {
     "end_time": "2024-03-11T14:47:45.088398Z",
     "start_time": "2024-03-11T14:47:44.803375Z"
    }
   },
   "id": "23994405fa9f1bc",
   "execution_count": 162
  },
  {
   "cell_type": "code",
   "outputs": [
    {
     "ename": "ScopeParamShapeError",
     "evalue": "Initializer expected to generate shape (410, 3) but got shape (10, 3) instead for parameter \"kernel\" in \"/Dense_0\". (https://flax.readthedocs.io/en/latest/api_reference/flax.errors.html#flax.errors.ScopeParamShapeError)",
     "output_type": "error",
     "traceback": [
      "\u001B[0;31m---------------------------------------------------------------------------\u001B[0m",
      "\u001B[0;31mScopeParamShapeError\u001B[0m                      Traceback (most recent call last)",
      "Cell \u001B[0;32mIn[163], line 2\u001B[0m\n\u001B[1;32m      1\u001B[0m \u001B[38;5;28;01mfor\u001B[39;00m i \u001B[38;5;129;01min\u001B[39;00m \u001B[38;5;28mrange\u001B[39m(\u001B[38;5;241m101\u001B[39m):\n\u001B[0;32m----> 2\u001B[0m   loss_val, grads \u001B[38;5;241m=\u001B[39m \u001B[43mloss_grad_fn\u001B[49m\u001B[43m(\u001B[49m\u001B[43mparams\u001B[49m\u001B[43m,\u001B[49m\u001B[43m \u001B[49m\u001B[43mx_samples\u001B[49m\u001B[43m,\u001B[49m\u001B[43m \u001B[49m\u001B[43my_samples\u001B[49m\u001B[43m)\u001B[49m\n\u001B[1;32m      3\u001B[0m   updates, opt_state \u001B[38;5;241m=\u001B[39m tx\u001B[38;5;241m.\u001B[39mupdate(grads, opt_state)\n\u001B[1;32m      4\u001B[0m   params \u001B[38;5;241m=\u001B[39m optax\u001B[38;5;241m.\u001B[39mapply_updates(params, updates)\n",
      "    \u001B[0;31m[... skipping hidden 20 frame]\u001B[0m\n",
      "Cell \u001B[0;32mIn[160], line 9\u001B[0m, in \u001B[0;36mmse2\u001B[0;34m(params, x_batched, y_batched)\u001B[0m\n\u001B[1;32m      7\u001B[0m   \u001B[38;5;28;01mreturn\u001B[39;00m jnp\u001B[38;5;241m.\u001B[39minner(y\u001B[38;5;241m-\u001B[39mpred, y\u001B[38;5;241m-\u001B[39mpred) \u001B[38;5;241m/\u001B[39m \u001B[38;5;241m2.0\u001B[39m\n\u001B[1;32m      8\u001B[0m \u001B[38;5;66;03m# Vectorize the previous to compute the average of the loss on all samples.\u001B[39;00m\n\u001B[0;32m----> 9\u001B[0m \u001B[38;5;28;01mreturn\u001B[39;00m jnp\u001B[38;5;241m.\u001B[39mmean(\u001B[43mjax\u001B[49m\u001B[38;5;241;43m.\u001B[39;49m\u001B[43mvmap\u001B[49m\u001B[43m(\u001B[49m\u001B[43msquared_error\u001B[49m\u001B[43m)\u001B[49m\u001B[43m(\u001B[49m\u001B[43mx_batched\u001B[49m\u001B[43m,\u001B[49m\u001B[43my_batched\u001B[49m\u001B[43m)\u001B[49m, axis\u001B[38;5;241m=\u001B[39m\u001B[38;5;241m0\u001B[39m)\n",
      "    \u001B[0;31m[... skipping hidden 3 frame]\u001B[0m\n",
      "Cell \u001B[0;32mIn[160], line 6\u001B[0m, in \u001B[0;36mmse2.<locals>.squared_error\u001B[0;34m(x, y)\u001B[0m\n\u001B[1;32m      5\u001B[0m \u001B[38;5;28;01mdef\u001B[39;00m \u001B[38;5;21msquared_error\u001B[39m(x, y):\n\u001B[0;32m----> 6\u001B[0m   pred \u001B[38;5;241m=\u001B[39m \u001B[43mmodel\u001B[49m\u001B[38;5;241;43m.\u001B[39;49m\u001B[43mapply\u001B[49m\u001B[43m(\u001B[49m\u001B[43mparams\u001B[49m\u001B[43m,\u001B[49m\u001B[43m \u001B[49m\u001B[43mx\u001B[49m\u001B[43m,\u001B[49m\u001B[43m \u001B[49m\u001B[43mtrain\u001B[49m\u001B[38;5;241;43m=\u001B[39;49m\u001B[38;5;28;43;01mTrue\u001B[39;49;00m\u001B[43m,\u001B[49m\u001B[43m \u001B[49m\u001B[43mrngs\u001B[49m\u001B[38;5;241;43m=\u001B[39;49m\u001B[43m{\u001B[49m\u001B[38;5;124;43m'\u001B[39;49m\u001B[38;5;124;43mdropout\u001B[39;49m\u001B[38;5;124;43m'\u001B[39;49m\u001B[43m:\u001B[49m\u001B[43m \u001B[49m\u001B[43mjax\u001B[49m\u001B[38;5;241;43m.\u001B[39;49m\u001B[43mrandom\u001B[49m\u001B[38;5;241;43m.\u001B[39;49m\u001B[43mkey\u001B[49m\u001B[43m(\u001B[49m\u001B[38;5;241;43m1\u001B[39;49m\u001B[43m)\u001B[49m\u001B[43m}\u001B[49m\u001B[43m)\u001B[49m\n\u001B[1;32m      7\u001B[0m   \u001B[38;5;28;01mreturn\u001B[39;00m jnp\u001B[38;5;241m.\u001B[39minner(y\u001B[38;5;241m-\u001B[39mpred, y\u001B[38;5;241m-\u001B[39mpred) \u001B[38;5;241m/\u001B[39m \u001B[38;5;241m2.0\u001B[39m\n",
      "    \u001B[0;31m[... skipping hidden 6 frame]\u001B[0m\n",
      "Cell \u001B[0;32mIn[149], line 16\u001B[0m, in \u001B[0;36mModel.__call__\u001B[0;34m(self, x, train)\u001B[0m\n\u001B[1;32m     14\u001B[0m \u001B[38;5;66;03m# Is this actually what we want or are we misunderstanding the problem\u001B[39;00m\n\u001B[1;32m     15\u001B[0m x \u001B[38;5;241m=\u001B[39m x\u001B[38;5;241m.\u001B[39mreshape((x\u001B[38;5;241m.\u001B[39mshape[\u001B[38;5;241m0\u001B[39m], \u001B[38;5;241m-\u001B[39m\u001B[38;5;241m1\u001B[39m))\n\u001B[0;32m---> 16\u001B[0m x \u001B[38;5;241m=\u001B[39m \u001B[43mnn\u001B[49m\u001B[38;5;241;43m.\u001B[39;49m\u001B[43mDense\u001B[49m\u001B[43m(\u001B[49m\u001B[38;5;28;43mself\u001B[39;49m\u001B[38;5;241;43m.\u001B[39;49m\u001B[43maction_embedding_dimension\u001B[49m\u001B[43m)\u001B[49m\u001B[43m(\u001B[49m\u001B[43mx\u001B[49m\u001B[43m)\u001B[49m\n\u001B[1;32m     17\u001B[0m \u001B[38;5;28;01mreturn\u001B[39;00m x\n",
      "    \u001B[0;31m[... skipping hidden 2 frame]\u001B[0m\n",
      "File \u001B[0;32m~/Library/Caches/pypoetry/virtualenvs/slimplectic-jax-PUrziPqO-py3.9/lib/python3.9/site-packages/flax/linen/linear.py:254\u001B[0m, in \u001B[0;36mDense.__call__\u001B[0;34m(self, inputs)\u001B[0m\n\u001B[1;32m    244\u001B[0m \u001B[38;5;129m@compact\u001B[39m\n\u001B[1;32m    245\u001B[0m \u001B[38;5;28;01mdef\u001B[39;00m \u001B[38;5;21m__call__\u001B[39m(\u001B[38;5;28mself\u001B[39m, inputs: Array) \u001B[38;5;241m-\u001B[39m\u001B[38;5;241m>\u001B[39m Array:\n\u001B[1;32m    246\u001B[0m \u001B[38;5;250m  \u001B[39m\u001B[38;5;124;03m\"\"\"Applies a linear transformation to the inputs along the last dimension.\u001B[39;00m\n\u001B[1;32m    247\u001B[0m \n\u001B[1;32m    248\u001B[0m \u001B[38;5;124;03m  Args:\u001B[39;00m\n\u001B[0;32m   (...)\u001B[0m\n\u001B[1;32m    252\u001B[0m \u001B[38;5;124;03m    The transformed input.\u001B[39;00m\n\u001B[1;32m    253\u001B[0m \u001B[38;5;124;03m  \"\"\"\u001B[39;00m\n\u001B[0;32m--> 254\u001B[0m   kernel \u001B[38;5;241m=\u001B[39m \u001B[38;5;28;43mself\u001B[39;49m\u001B[38;5;241;43m.\u001B[39;49m\u001B[43mparam\u001B[49m\u001B[43m(\u001B[49m\n\u001B[1;32m    255\u001B[0m \u001B[43m    \u001B[49m\u001B[38;5;124;43m'\u001B[39;49m\u001B[38;5;124;43mkernel\u001B[39;49m\u001B[38;5;124;43m'\u001B[39;49m\u001B[43m,\u001B[49m\n\u001B[1;32m    256\u001B[0m \u001B[43m    \u001B[49m\u001B[38;5;28;43mself\u001B[39;49m\u001B[38;5;241;43m.\u001B[39;49m\u001B[43mkernel_init\u001B[49m\u001B[43m,\u001B[49m\n\u001B[1;32m    257\u001B[0m \u001B[43m    \u001B[49m\u001B[43m(\u001B[49m\u001B[43mjnp\u001B[49m\u001B[38;5;241;43m.\u001B[39;49m\u001B[43mshape\u001B[49m\u001B[43m(\u001B[49m\u001B[43minputs\u001B[49m\u001B[43m)\u001B[49m\u001B[43m[\u001B[49m\u001B[38;5;241;43m-\u001B[39;49m\u001B[38;5;241;43m1\u001B[39;49m\u001B[43m]\u001B[49m\u001B[43m,\u001B[49m\u001B[43m \u001B[49m\u001B[38;5;28;43mself\u001B[39;49m\u001B[38;5;241;43m.\u001B[39;49m\u001B[43mfeatures\u001B[49m\u001B[43m)\u001B[49m\u001B[43m,\u001B[49m\n\u001B[1;32m    258\u001B[0m \u001B[43m    \u001B[49m\u001B[38;5;28;43mself\u001B[39;49m\u001B[38;5;241;43m.\u001B[39;49m\u001B[43mparam_dtype\u001B[49m\u001B[43m,\u001B[49m\n\u001B[1;32m    259\u001B[0m \u001B[43m  \u001B[49m\u001B[43m)\u001B[49m\n\u001B[1;32m    260\u001B[0m   \u001B[38;5;28;01mif\u001B[39;00m \u001B[38;5;28mself\u001B[39m\u001B[38;5;241m.\u001B[39muse_bias:\n\u001B[1;32m    261\u001B[0m     bias \u001B[38;5;241m=\u001B[39m \u001B[38;5;28mself\u001B[39m\u001B[38;5;241m.\u001B[39mparam(\n\u001B[1;32m    262\u001B[0m       \u001B[38;5;124m'\u001B[39m\u001B[38;5;124mbias\u001B[39m\u001B[38;5;124m'\u001B[39m, \u001B[38;5;28mself\u001B[39m\u001B[38;5;241m.\u001B[39mbias_init, (\u001B[38;5;28mself\u001B[39m\u001B[38;5;241m.\u001B[39mfeatures,), \u001B[38;5;28mself\u001B[39m\u001B[38;5;241m.\u001B[39mparam_dtype\n\u001B[1;32m    263\u001B[0m     )\n",
      "    \u001B[0;31m[... skipping hidden 1 frame]\u001B[0m\n",
      "File \u001B[0;32m~/Library/Caches/pypoetry/virtualenvs/slimplectic-jax-PUrziPqO-py3.9/lib/python3.9/site-packages/flax/core/scope.py:960\u001B[0m, in \u001B[0;36mScope.param\u001B[0;34m(self, name, init_fn, unbox, *init_args)\u001B[0m\n\u001B[1;32m    955\u001B[0m   \u001B[38;5;28;01mfor\u001B[39;00m val, abs_val \u001B[38;5;129;01min\u001B[39;00m \u001B[38;5;28mzip\u001B[39m(value_flat, abs_value_flat):\n\u001B[1;32m    956\u001B[0m     \u001B[38;5;66;03m# NOTE: We could check dtype consistency here as well but it's\u001B[39;00m\n\u001B[1;32m    957\u001B[0m     \u001B[38;5;66;03m# usefuleness is less obvious. We might intentionally change the dtype\u001B[39;00m\n\u001B[1;32m    958\u001B[0m     \u001B[38;5;66;03m# for inference to a half float type for example.\u001B[39;00m\n\u001B[1;32m    959\u001B[0m     \u001B[38;5;28;01mif\u001B[39;00m jnp\u001B[38;5;241m.\u001B[39mshape(val) \u001B[38;5;241m!=\u001B[39m jnp\u001B[38;5;241m.\u001B[39mshape(abs_val):\n\u001B[0;32m--> 960\u001B[0m       \u001B[38;5;28;01mraise\u001B[39;00m errors\u001B[38;5;241m.\u001B[39mScopeParamShapeError(\n\u001B[1;32m    961\u001B[0m         name, \u001B[38;5;28mself\u001B[39m\u001B[38;5;241m.\u001B[39mpath_text, jnp\u001B[38;5;241m.\u001B[39mshape(abs_val), jnp\u001B[38;5;241m.\u001B[39mshape(val)\n\u001B[1;32m    962\u001B[0m       )\n\u001B[1;32m    963\u001B[0m \u001B[38;5;28;01melse\u001B[39;00m:\n\u001B[1;32m    964\u001B[0m   \u001B[38;5;28;01mif\u001B[39;00m \u001B[38;5;129;01mnot\u001B[39;00m \u001B[38;5;28mself\u001B[39m\u001B[38;5;241m.\u001B[39mis_mutable_collection(\u001B[38;5;124m'\u001B[39m\u001B[38;5;124mparams\u001B[39m\u001B[38;5;124m'\u001B[39m):\n",
      "\u001B[0;31mScopeParamShapeError\u001B[0m: Initializer expected to generate shape (410, 3) but got shape (10, 3) instead for parameter \"kernel\" in \"/Dense_0\". (https://flax.readthedocs.io/en/latest/api_reference/flax.errors.html#flax.errors.ScopeParamShapeError)"
     ]
    }
   ],
   "source": [
    "for i in range(101):\n",
    "  loss_val, grads = loss_grad_fn(params, x_samples, y_samples)\n",
    "  updates, opt_state = tx.update(grads, opt_state)\n",
    "  params = optax.apply_updates(params, updates)\n",
    "  if i % 10 == 0:\n",
    "    print('Loss step {}: '.format(i), loss_val)"
   ],
   "metadata": {
    "collapsed": false,
    "ExecuteTime": {
     "end_time": "2024-03-11T14:47:45.672725Z",
     "start_time": "2024-03-11T14:47:45.554088Z"
    }
   },
   "id": "aecd5584b62e012f",
   "execution_count": 163
  },
  {
   "cell_type": "code",
   "outputs": [
    {
     "name": "stdout",
     "output_type": "stream",
     "text": [
      "initialized parameter shapes:\n",
      " {'params': {'Dense_0': {'bias': (3,), 'kernel': (1000, 3)}, 'LSTMCell_0': {'hf': {'bias': (10,), 'kernel': (10, 10)}, 'hg': {'bias': (10,), 'kernel': (10, 10)}, 'hi': {'bias': (10,), 'kernel': (10, 10)}, 'ho': {'bias': (10,), 'kernel': (10, 10)}, 'if': {'kernel': (5, 10)}, 'ig': {'kernel': (5, 10)}, 'ii': {'kernel': (5, 10)}, 'io': {'kernel': (5, 10)}}}}\n"
     ]
    }
   ],
   "source": [
    "import flax\n",
    "\n",
    "print('initialized parameter shapes:\\n', jax.tree_util.tree_map(jnp.shape, flax.core.unfreeze(params)))"
   ],
   "metadata": {
    "collapsed": false,
    "ExecuteTime": {
     "end_time": "2024-03-11T14:39:52.698296Z",
     "start_time": "2024-03-11T14:39:52.695665Z"
    }
   },
   "id": "7c2df5fbd536ad6b",
   "execution_count": 120
  },
  {
   "cell_type": "code",
   "outputs": [],
   "source": [],
   "metadata": {
    "collapsed": false
   },
   "id": "6ec4a68a8c813b3e"
  },
  {
   "cell_type": "code",
   "outputs": [],
   "source": [],
   "metadata": {
    "collapsed": false
   },
   "id": "879296c7201b20b1"
  }
 ],
 "metadata": {
  "kernelspec": {
   "display_name": "Python 3",
   "language": "python",
   "name": "python3"
  },
  "language_info": {
   "codemirror_mode": {
    "name": "ipython",
    "version": 2
   },
   "file_extension": ".py",
   "mimetype": "text/x-python",
   "name": "python",
   "nbconvert_exporter": "python",
   "pygments_lexer": "ipython2",
   "version": "2.7.6"
  }
 },
 "nbformat": 4,
 "nbformat_minor": 5
}
