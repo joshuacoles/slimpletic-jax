{
 "cells": [
  {
   "cell_type": "markdown",
   "source": [
    "A comparison between the initial behaviours of the original and the new implementation."
   ],
   "metadata": {
    "collapsed": false
   },
   "id": "dc586bf4edc5d755"
  },
  {
   "cell_type": "code",
   "execution_count": 41,
   "id": "initial_id",
   "metadata": {
    "collapsed": true,
    "ExecuteTime": {
     "end_time": "2024-02-06T13:43:35.210277Z",
     "start_time": "2024-02-06T13:43:35.202529Z"
    }
   },
   "outputs": [],
   "source": [
    "import matplotlib.pyplot as plt\n",
    "import numpy as np\n",
    "import jax.numpy as jnp\n",
    "import jax\n",
    "\n",
    "import slimpletic as st\n",
    "\n",
    "assert jax.config.read('jax_enable_x64')"
   ]
  },
  {
   "cell_type": "markdown",
   "source": [
    "Here we setup the parameters for the system."
   ],
   "metadata": {
    "collapsed": false
   },
   "id": "b63871e83bdbc143"
  },
  {
   "cell_type": "code",
   "execution_count": 44,
   "outputs": [],
   "source": [
    "# System parameters, used in both methods\n",
    "m = 1.0\n",
    "k = 1.0\n",
    "ll = 1e-4 * np.sqrt(m * k)  # ll is $\\lambda$ in the paper\n",
    "\n",
    "# Simulation and Method parameters\n",
    "dt = 0.1 * np.sqrt(m / k)\n",
    "t_sample_count = 1\n",
    "tmax = t_sample_count * np.sqrt(m / k)\n",
    "t0 = 0\n",
    "t = t0 + dt * np.arange(0, t_sample_count + 1)\n",
    "r = 0\n",
    "\n",
    "# Initial conditions\n",
    "q0 = [1.]\n",
    "pi0 = [0.25 * dt * k]"
   ],
   "metadata": {
    "collapsed": false,
    "ExecuteTime": {
     "end_time": "2024-02-06T13:45:25.396689Z",
     "start_time": "2024-02-06T13:45:25.376152Z"
    }
   },
   "id": "dad8abf7d5f93543"
  },
  {
   "cell_type": "markdown",
   "source": [
    "Now the system dynamics"
   ],
   "metadata": {
    "collapsed": false
   },
   "id": "7f2acdddba5044c6"
  },
  {
   "cell_type": "code",
   "execution_count": 45,
   "outputs": [],
   "source": [
    "def lagrangian_f(q, qdot, t):\n",
    "    return 0.5 * m * jnp.dot(qdot, qdot) - 0.5 * k * jnp.dot(q, q) ** 2"
   ],
   "metadata": {
    "collapsed": false,
    "ExecuteTime": {
     "end_time": "2024-02-06T13:45:28.474869Z",
     "start_time": "2024-02-06T13:45:28.470735Z"
    }
   },
   "id": "d13dd5958124fd48"
  },
  {
   "cell_type": "code",
   "execution_count": 47,
   "outputs": [],
   "source": [
    "def create_original():\n",
    "    from sympy import Symbol\n",
    "    from original import slimplectic\n",
    "\n",
    "    dho = slimplectic.GalerkinGaussLobatto('t', ['q'], ['v'])\n",
    "    L = 0.5 * m * np.dot(dho.v, dho.v) - 0.5 * k * np.dot(dho.q, dho.q)\n",
    "    # DHO:\n",
    "    K = -ll * np.dot(dho.vp, dho.qm)\n",
    "    # No damping:\n",
    "    K_nd = Symbol('a')\n",
    "    dho.discretize(L, K_nd, r, method='implicit', verbose=False)\n",
    "    return dho\n",
    "\n",
    "\n",
    "dho = create_original()"
   ],
   "metadata": {
    "collapsed": false,
    "ExecuteTime": {
     "end_time": "2024-02-06T13:46:04.982064Z",
     "start_time": "2024-02-06T13:46:04.978449Z"
    }
   },
   "id": "83195528c9067a5c"
  },
  {
   "cell_type": "code",
   "outputs": [],
   "source": [
    "def format_original(original_results):\n",
    "    return np.vstack([\n",
    "        np.array(original_results[0]),\n",
    "        np.array(original_results[1])\n",
    "    ]).T\n",
    "\n",
    "\n",
    "def format_jax(jax_results):\n",
    "    return np.vstack(\n",
    "        [\n",
    "            np.array(jax_results[0]),\n",
    "            np.array(jax_results[1])\n",
    "        ],\n",
    "    ).T"
   ],
   "metadata": {
    "collapsed": false,
    "ExecuteTime": {
     "end_time": "2024-02-06T13:47:54.359769Z",
     "start_time": "2024-02-06T13:47:54.349956Z"
    }
   },
   "id": "500e59ed1313b3c9",
   "execution_count": 50
  },
  {
   "cell_type": "markdown",
   "source": [
    "## Original Implementation"
   ],
   "metadata": {
    "collapsed": false
   },
   "id": "3d79dab8fd798add"
  },
  {
   "cell_type": "code",
   "execution_count": 51,
   "outputs": [
    {
     "name": "stdout",
     "output_type": "stream",
     "text": [
      "pi_np1_func: pi_np1_vec = [0.5*h_{GGL}*(-1.0*{q^{[n+1]}} + 0.5*(2*{q^{[n+1]}} - 2.0*{q^{[n]}})/h_{GGL}**2) + 0.25*(2*{q^{[n+1]}} - 2.0*{q^{[n]}})/h_{GGL}] in context [{q^{[n]}}, {q^{[n+1]}}, \\pi_q^{[n]}, t, h_{GGL}] = [1.0, 0.9975, 0.025, 0.0, 0.1]\n",
      "pi_np1_func: pi_np1_vec = [0.5*h_{GGL}*(-1.0*{q^{[n+1]}} + 0.5*(2*{q^{[n+1]}} - 2.0*{q^{[n]}})/h_{GGL}**2) + 0.25*(2*{q^{[n+1]}} - 2.0*{q^{[n]}})/h_{GGL}] in context [{q^{[n]}}, {q^{[n+1]}}, \\pi_q^{[n]}, t, h_{GGL}] = [0.9975, 0.9850250000000002, -0.07487499999999947, 0.1, 0.1]\n"
     ]
    },
    {
     "data": {
      "text/plain": "array([[ 1.      ,  0.025   ],\n       [ 0.9975  , -0.074875]])"
     },
     "execution_count": 51,
     "metadata": {},
     "output_type": "execute_result"
    }
   ],
   "source": [
    "original_results = dho.integrate(q0, pi0, t)\n",
    "original_results_fmt = format_original(original_results)\n",
    "original_results_fmt"
   ],
   "metadata": {
    "collapsed": false,
    "ExecuteTime": {
     "end_time": "2024-02-06T13:48:13.581212Z",
     "start_time": "2024-02-06T13:48:13.552719Z"
    }
   },
   "id": "ebcf941de4af1e91"
  },
  {
   "cell_type": "code",
   "execution_count": 55,
   "outputs": [
    {
     "name": "stdout",
     "output_type": "stream",
     "text": [
      "qi_values [[1.00374847]\n",
      " [0.9961356 ]]\n",
      "pi_current [0.025] pi_next [-0.17497392]\n"
     ]
    },
    {
     "data": {
      "text/plain": "array([[ 1.        ,  0.025     ],\n       [ 0.9961356 , -0.17497392]])"
     },
     "execution_count": 55,
     "metadata": {},
     "output_type": "execute_result"
    }
   ],
   "source": [
    "*jax_results, debug_info = st.iterate(\n",
    "    lagrangian=lagrangian_f,\n",
    "    q0=jnp.array(q0),\n",
    "    pi0=jnp.array(pi0),\n",
    "    dt=dt,\n",
    "    t0=0,\n",
    "    t_sample_count=t_sample_count,\n",
    "    r=r,\n",
    "    debug=True\n",
    ")\n",
    "\n",
    "jax_results_fmt = format_jax(jax_results)\n",
    "jax_results_fmt"
   ],
   "metadata": {
    "collapsed": false,
    "ExecuteTime": {
     "end_time": "2024-02-06T13:49:26.595335Z",
     "start_time": "2024-02-06T13:49:25.740464Z"
    }
   },
   "id": "e8c1bd35885909dc"
  },
  {
   "cell_type": "code",
   "execution_count": 53,
   "outputs": [
    {
     "data": {
      "text/plain": "array([[ 0.        ,  0.        ],\n       [-0.0013644 , -0.10009892]])"
     },
     "execution_count": 53,
     "metadata": {},
     "output_type": "execute_result"
    }
   ],
   "source": [
    "jax_results_fmt - original_results_fmt"
   ],
   "metadata": {
    "collapsed": false,
    "ExecuteTime": {
     "end_time": "2024-02-06T13:49:02.724663Z",
     "start_time": "2024-02-06T13:49:02.717066Z"
    }
   },
   "id": "60ad8887c82749be"
  },
  {
   "cell_type": "code",
   "execution_count": 56,
   "outputs": [
    {
     "data": {
      "text/plain": "<matplotlib.legend.Legend at 0x120e02c10>"
     },
     "execution_count": 56,
     "metadata": {},
     "output_type": "execute_result"
    },
    {
     "data": {
      "text/plain": "<Figure size 640x480 with 1 Axes>",
      "image/png": "[encoded data removed]"
     },
     "metadata": {},
     "output_type": "display_data"
    }
   ],
   "source": [
    "plt.plot(t, original_results_fmt[:, 0], label='sympy q', color='C0')\n",
    "plt.scatter(t, jax_results_fmt[:, 0], label='jax q', color='C0', marker='x')\n",
    "plt.plot(t, original_results_fmt[:, 1], label='sympy $\\pi$', color='C1', )\n",
    "plt.scatter(t, jax_results_fmt[:, 1], label='jax $\\pi$', color='C1', marker='x')\n",
    "plt.legend()"
   ],
   "metadata": {
    "collapsed": false,
    "ExecuteTime": {
     "end_time": "2024-02-06T13:49:39.080026Z",
     "start_time": "2024-02-06T13:49:38.949911Z"
    }
   },
   "id": "37fbfef4f4bf1dd6"
  },
  {
   "cell_type": "code",
   "execution_count": 35,
   "outputs": [
    {
     "name": "stdout",
     "output_type": "stream",
     "text": [
      "pi_np1_func: pi_np1_vec = [0.5*h_{GGL}*(-1.0*{q^{[n+1]}} + 0.5*(2*{q^{[n+1]}} - 2.0*{q^{[n]}})/h_{GGL}**2) + 0.25*(2*{q^{[n+1]}} - 2.0*{q^{[n]}})/h_{GGL}] in context [{q^{[n]}}, {q^{[n+1]}}, \\pi_q^{[n]}, t, h_{GGL}] = [3, 2, -3, 0, 0.1]\n"
     ]
    },
    {
     "data": {
      "text/plain": "array([-10.1])"
     },
     "execution_count": 35,
     "metadata": {},
     "output_type": "execute_result"
    }
   ],
   "source": [
    "dho._pi_np1_map(\n",
    "    np.array([2, 1]),\n",
    "    np.array([3]),\n",
    "    np.array([-3]),\n",
    "    t0,\n",
    "    dt\n",
    ")"
   ],
   "metadata": {
    "collapsed": false,
    "ExecuteTime": {
     "end_time": "2024-02-06T12:59:52.372490Z",
     "start_time": "2024-02-06T12:59:52.341970Z"
    }
   },
   "id": "4aa03a26105a7310"
  },
  {
   "cell_type": "code",
   "execution_count": 13,
   "outputs": [
    {
     "data": {
      "text/plain": "Array(-10.8, dtype=float64)"
     },
     "execution_count": 13,
     "metadata": {},
     "output_type": "execute_result"
    }
   ],
   "source": [
    "debug_info['compute_pi_next'](\n",
    "    jnp.array([3, 2.0]),\n",
    "    t0\n",
    ")"
   ],
   "metadata": {
    "collapsed": false,
    "ExecuteTime": {
     "end_time": "2023-12-11T09:14:17.241740Z",
     "start_time": "2023-12-11T09:14:17.105319Z"
    }
   },
   "id": "4ab127fbccacb0c4"
  },
  {
   "cell_type": "markdown",
   "source": [
    "And here is where we leave this mess:\n",
    "\n",
    "- Why are these numbers different, they seem much closer though. Do a random spot test to check for rough coincidence.\n",
    "- Why does the sympy version seem to be assigning the wrong values to the wrong variables?\n",
    "- Verify `Convert_EOM_Args` does what I think it does "
   ],
   "metadata": {
    "collapsed": false
   },
   "id": "3f58ca3b7837bb41"
  },
  {
   "cell_type": "code",
   "execution_count": 36,
   "outputs": [
    {
     "data": {
      "text/plain": "Array([ 0.9999, -1.    ], dtype=float64)"
     },
     "execution_count": 36,
     "metadata": {},
     "output_type": "execute_result"
    }
   ],
   "source": [
    "jax.grad(debug_info['lagrangian_d'], argnums=0)(\n",
    "    jnp.array([0.1, 0]),\n",
    "    t0\n",
    ")"
   ],
   "metadata": {
    "collapsed": false,
    "ExecuteTime": {
     "end_time": "2024-02-06T13:00:37.093529Z",
     "start_time": "2024-02-06T13:00:36.921715Z"
    }
   },
   "id": "64cfc36e4fa7b46e"
  },
  {
   "cell_type": "code",
   "execution_count": 37,
   "outputs": [
    {
     "data": {
      "text/plain": "Array([0.025], dtype=float64)"
     },
     "execution_count": 37,
     "metadata": {},
     "output_type": "execute_result"
    }
   ],
   "source": [
    "jnp.array(pi0)"
   ],
   "metadata": {
    "collapsed": false,
    "ExecuteTime": {
     "end_time": "2024-02-06T13:00:38.075479Z",
     "start_time": "2024-02-06T13:00:38.071788Z"
    }
   },
   "id": "f870b1bf3fecdc6d"
  },
  {
   "cell_type": "code",
   "execution_count": 38,
   "outputs": [
    {
     "data": {
      "text/plain": "Array([0.025], dtype=float64)"
     },
     "execution_count": 38,
     "metadata": {},
     "output_type": "execute_result"
    }
   ],
   "source": [
    "debug_info['residue'](jnp.array(dho.qi_sol_list[0]), 0, jnp.array(pi0))"
   ],
   "metadata": {
    "collapsed": false,
    "ExecuteTime": {
     "end_time": "2024-02-06T13:00:38.779614Z",
     "start_time": "2024-02-06T13:00:38.723435Z"
    }
   },
   "id": "e9763f1ab9d9208b"
  },
  {
   "cell_type": "code",
   "execution_count": 39,
   "outputs": [
    {
     "ename": "KeyError",
     "evalue": "'optimize_qi'",
     "output_type": "error",
     "traceback": [
      "\u001B[0;31m---------------------------------------------------------------------------\u001B[0m",
      "\u001B[0;31mKeyError\u001B[0m                                  Traceback (most recent call last)",
      "Cell \u001B[0;32mIn[39], line 1\u001B[0m\n\u001B[0;32m----> 1\u001B[0m \u001B[43mdebug_info\u001B[49m\u001B[43m[\u001B[49m\u001B[38;5;124;43m'\u001B[39;49m\u001B[38;5;124;43moptimize_qi\u001B[39;49m\u001B[38;5;124;43m'\u001B[39;49m\u001B[43m]\u001B[49m(\n\u001B[1;32m      2\u001B[0m     jnp\u001B[38;5;241m.\u001B[39marray([\u001B[38;5;241m0.1\u001B[39m, \u001B[38;5;241m0\u001B[39m]),\n\u001B[1;32m      3\u001B[0m     t0\n\u001B[1;32m      4\u001B[0m )\n",
      "\u001B[0;31mKeyError\u001B[0m: 'optimize_qi'"
     ]
    }
   ],
   "source": [
    "debug_info['optimize_qi'](\n",
    "    jnp.array([0.1, 0]),\n",
    "    t0\n",
    ")"
   ],
   "metadata": {
    "collapsed": false,
    "ExecuteTime": {
     "end_time": "2024-02-06T13:00:40.039062Z",
     "start_time": "2024-02-06T13:00:39.894084Z"
    }
   },
   "id": "261805c5e0bf2871"
  },
  {
   "cell_type": "code",
   "execution_count": 40,
   "outputs": [
    {
     "data": {
      "text/plain": "array([9.975])"
     },
     "execution_count": 40,
     "metadata": {},
     "output_type": "execute_result"
    }
   ],
   "source": [
    "dho.debug_escape_info['EOM_Val_Vec'](\n",
    "    jnp.array(dho.qi_sol_list[0]),\n",
    "    q0,\n",
    "    pi0,\n",
    "    0,\n",
    "    0.1\n",
    ")"
   ],
   "metadata": {
    "collapsed": false,
    "ExecuteTime": {
     "end_time": "2024-02-06T13:00:40.913229Z",
     "start_time": "2024-02-06T13:00:40.845462Z"
    }
   },
   "id": "6fbec29aacb99088"
  },
  {
   "cell_type": "code",
   "execution_count": null,
   "outputs": [],
   "source": [
    "dho.qi_sol_list[0]"
   ],
   "metadata": {
    "collapsed": false,
    "ExecuteTime": {
     "start_time": "2023-12-11T09:14:17.534796Z"
    }
   },
   "id": "523e0aef91874782"
  },
  {
   "cell_type": "code",
   "execution_count": null,
   "outputs": [],
   "source": [
    "debug_info"
   ],
   "metadata": {
    "collapsed": false,
    "ExecuteTime": {
     "start_time": "2023-12-11T09:14:17.536558Z"
    }
   },
   "id": "bc9987ca76523fff"
  },
  {
   "cell_type": "code",
   "execution_count": 18,
   "outputs": [
    {
     "data": {
      "text/plain": "Array([[1.],\n       [1.]], dtype=float64)"
     },
     "execution_count": 18,
     "metadata": {},
     "output_type": "execute_result"
    }
   ],
   "source": [
    "from slimpletic.helpers import fill_out_initial\n",
    "\n",
    "fill_out_initial(\n",
    "    jnp.array(q0),\n",
    "    r=r\n",
    ")"
   ],
   "metadata": {
    "collapsed": false,
    "ExecuteTime": {
     "end_time": "2023-12-11T09:15:24.535227Z",
     "start_time": "2023-12-11T09:15:24.474149Z"
    }
   },
   "id": "4042254c610d014f"
  },
  {
   "cell_type": "code",
   "execution_count": 22,
   "outputs": [],
   "source": [
    "from jaxopt import GaussNewton\n",
    "\n",
    "opt = GaussNewton(residual_fun=debug_info['residue'])\n",
    "opt_res = opt.run(\n",
    "    fill_out_initial(\n",
    "        jnp.array(q0),\n",
    "        r=r\n",
    "    ),\n",
    "    t0,\n",
    "    jnp.array(pi0)\n",
    ")"
   ],
   "metadata": {
    "collapsed": false,
    "ExecuteTime": {
     "end_time": "2023-12-11T09:17:15.323510Z",
     "start_time": "2023-12-11T09:17:14.420422Z"
    }
   },
   "id": "aff59eaa4cd985b0"
  },
  {
   "cell_type": "code",
   "execution_count": 23,
   "outputs": [
    {
     "data": {
      "text/plain": "OptStep(params=Array([[1.00374847],\n       [0.9961356 ]], dtype=float64), state=GaussNewtonState(iter_num=Array(2, dtype=int64, weak_type=True), residual=Array([-4.22010452e-06], dtype=float64), value=Array(8.9046411e-12, dtype=float64), delta=Array([[-2.10905885e-07],\n       [ 2.17479265e-07]], dtype=float64), error=Array(3.02949704e-07, dtype=float64), gradient=Array([[-4.09255053e-05],\n       [ 4.22010452e-05]], dtype=float64), aux=None))"
     },
     "execution_count": 23,
     "metadata": {},
     "output_type": "execute_result"
    }
   ],
   "source": [
    "opt_res.params"
   ],
   "metadata": {
    "collapsed": false,
    "ExecuteTime": {
     "end_time": "2023-12-11T09:17:18.416422Z",
     "start_time": "2023-12-11T09:17:18.372168Z"
    }
   },
   "id": "6fe615a501908ad5"
  },
  {
   "cell_type": "code",
   "execution_count": 25,
   "outputs": [
    {
     "data": {
      "text/plain": "array([[-0.06248472]])"
     },
     "execution_count": 25,
     "metadata": {},
     "output_type": "execute_result"
    }
   ],
   "source": [
    "dho.debug_escape_info['EOM_Val_Vec'](\n",
    "    opt_res.params,\n",
    "    q0,\n",
    "    pi0,\n",
    "    0,\n",
    "    0.1\n",
    ")"
   ],
   "metadata": {
    "collapsed": false,
    "ExecuteTime": {
     "end_time": "2023-12-11T09:17:38.531647Z",
     "start_time": "2023-12-11T09:17:38.411151Z"
    }
   },
   "id": "5847f7bcc10d874b"
  },
  {
   "cell_type": "code",
   "execution_count": 26,
   "outputs": [
    {
     "data": {
      "text/plain": "Array([0., 0.], dtype=float64)"
     },
     "execution_count": 26,
     "metadata": {},
     "output_type": "execute_result"
    }
   ],
   "source": [
    "jnp.array(dho.qi_sol_list[0])"
   ],
   "metadata": {
    "collapsed": false,
    "ExecuteTime": {
     "end_time": "2023-12-11T09:17:55.125650Z",
     "start_time": "2023-12-11T09:17:55.096318Z"
    }
   },
   "id": "90d8c706d92a7bac"
  },
  {
   "cell_type": "code",
   "execution_count": 27,
   "outputs": [
    {
     "data": {
      "text/plain": "Array([[1.00374847],\n       [0.9961356 ]], dtype=float64)"
     },
     "execution_count": 27,
     "metadata": {},
     "output_type": "execute_result"
    }
   ],
   "source": [
    "opt_res.params"
   ],
   "metadata": {
    "collapsed": false,
    "ExecuteTime": {
     "end_time": "2023-12-11T09:18:02.235254Z",
     "start_time": "2023-12-11T09:18:02.208012Z"
    }
   },
   "id": "295c940593b9d024"
  },
  {
   "cell_type": "markdown",
   "source": [
    "Why are those so different I thought they were the same thing??"
   ],
   "metadata": {
    "collapsed": false
   },
   "id": "a0f32c3be8fba152"
  },
  {
   "cell_type": "code",
   "execution_count": null,
   "outputs": [],
   "source": [],
   "metadata": {
    "collapsed": false
   },
   "id": "288a6e1d5bd6b2d3"
  }
 ],
 "metadata": {
  "kernelspec": {
   "display_name": "Python 3",
   "language": "python",
   "name": "python3"
  },
  "language_info": {
   "codemirror_mode": {
    "name": "ipython",
    "version": 2
   },
   "file_extension": ".py",
   "mimetype": "text/x-python",
   "name": "python",
   "nbconvert_exporter": "python",
   "pygments_lexer": "ipython2",
   "version": "2.7.6"
  }
 },
 "nbformat": 4,
 "nbformat_minor": 5
}
