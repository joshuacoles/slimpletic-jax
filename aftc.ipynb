{
 "cells": [
  {
   "cell_type": "markdown",
   "source": [
    "A comparison between the initial behaviours of the original and the new implementation."
   ],
   "metadata": {
    "collapsed": false
   },
   "id": "dc586bf4edc5d755"
  },
  {
   "cell_type": "code",
   "outputs": [],
   "source": [
    "import matplotlib.pyplot as plt\n",
    "import numpy as np\n",
    "import jax.numpy as jnp\n",
    "import jax\n",
    "\n",
    "import slimpletic as st\n",
    "\n",
    "assert jax.config.read('jax_enable_x64')"
   ],
   "metadata": {
    "collapsed": false,
    "ExecuteTime": {
     "end_time": "2024-02-12T21:29:31.653757Z",
     "start_time": "2024-02-12T21:29:30.754878Z"
    }
   },
   "id": "initial_id",
   "execution_count": 1
  },
  {
   "cell_type": "markdown",
   "source": [
    "Here we setup the parameters for the system."
   ],
   "metadata": {
    "collapsed": false
   },
   "id": "b63871e83bdbc143"
  },
  {
   "cell_type": "code",
   "execution_count": null,
   "outputs": [],
   "source": [
    "# System parameters, used in both methods\n",
    "m = 1.0\n",
    "k = 100.0\n",
    "ll = 1e-4 * np.sqrt(m * k)  # ll is $\\lambda$ in the paper\n",
    "\n",
    "# Simulation and Method parameters\n",
    "dt = 0.1 * np.sqrt(m / k)\n",
    "t_sample_count = 1\n",
    "tmax = t_sample_count * np.sqrt(m / k)\n",
    "t0 = 0\n",
    "t = t0 + dt * np.arange(0, t_sample_count + 1)\n",
    "r = 0\n",
    "\n",
    "# Initial conditions\n",
    "q0 = [1.]\n",
    "pi0 = [0.25 * dt * k]"
   ],
   "metadata": {
    "collapsed": false
   },
   "id": "dad8abf7d5f93543"
  },
  {
   "cell_type": "markdown",
   "source": [
    "Now the system dynamics"
   ],
   "metadata": {
    "collapsed": false
   },
   "id": "7f2acdddba5044c6"
  },
  {
   "cell_type": "code",
   "execution_count": null,
   "outputs": [],
   "source": [
    "def lagrangian_f(q, qdot, t):\n",
    "    return 0.5 * m * jnp.dot(qdot, qdot) - 0.5 * k * jnp.dot(q, q)"
   ],
   "metadata": {
    "collapsed": false
   },
   "id": "d13dd5958124fd48"
  },
  {
   "cell_type": "code",
   "execution_count": null,
   "outputs": [],
   "source": [
    "def create_original():\n",
    "    from sympy import Symbol\n",
    "    from original import slimplectic\n",
    "\n",
    "    dho = slimplectic.GalerkinGaussLobatto('t', ['q'], ['v'])\n",
    "    L = 0.5 * m * np.dot(dho.v, dho.v) - 0.5 * k * np.dot(dho.q, dho.q)\n",
    "    # DHO:\n",
    "    K = -ll * np.dot(dho.vp, dho.qm)\n",
    "    # No damping:\n",
    "    K_nd = Symbol('a')\n",
    "    dho.discretize(L, K_nd, r, method='implicit', verbose=False)\n",
    "    return dho\n",
    "\n",
    "\n",
    "dho = create_original()"
   ],
   "metadata": {
    "collapsed": false
   },
   "id": "83195528c9067a5c"
  },
  {
   "cell_type": "code",
   "outputs": [],
   "source": [
    "\"\"\"\n",
    "We need to normalise the format of the results to compare them and be able to plot them nicely.\n",
    "\"\"\"\n",
    "\n",
    "\n",
    "def format_original(original_results):\n",
    "    return np.vstack([\n",
    "        np.array(original_results[0]),\n",
    "        np.array(original_results[1])\n",
    "    ]).T\n",
    "\n",
    "\n",
    "def format_jax(jax_results):\n",
    "    return np.vstack(\n",
    "        [\n",
    "            np.array(jax_results[0]),\n",
    "            np.array(jax_results[1])\n",
    "        ],\n",
    "    ).T"
   ],
   "metadata": {
    "collapsed": false
   },
   "id": "500e59ed1313b3c9",
   "execution_count": null
  },
  {
   "cell_type": "markdown",
   "source": [
    "## Original Implementation"
   ],
   "metadata": {
    "collapsed": false
   },
   "id": "3d79dab8fd798add"
  },
  {
   "cell_type": "code",
   "execution_count": null,
   "outputs": [],
   "source": [
    "*original_results, integrate_debug_escape_info = dho.integrate(q0, pi0, t)\n",
    "original_results_fmt = format_original(original_results)\n",
    "original_results_fmt"
   ],
   "metadata": {
    "collapsed": false
   },
   "id": "ebcf941de4af1e91"
  },
  {
   "cell_type": "markdown",
   "source": [
    "## JAX Implementation"
   ],
   "metadata": {
    "collapsed": false
   },
   "id": "9a00491c8a312b50"
  },
  {
   "cell_type": "code",
   "outputs": [],
   "source": [
    "from slimpletic import Solver\n",
    "\n",
    "solver = Solver(r=r, dt=dt, lagrangian=lagrangian_f)\n",
    "\n",
    "solver.integrate(q0, pi0, t0, t_sample_count)\n"
   ],
   "metadata": {
    "collapsed": false
   },
   "id": "71eda1b8036d8904",
   "execution_count": null
  },
  {
   "cell_type": "code",
   "execution_count": null,
   "outputs": [],
   "source": [
    "*jax_results, jax_debug_info = st.iterate(\n",
    "    lagrangian=lagrangian_f,\n",
    "    q0=jnp.array(q0),\n",
    "    pi0=jnp.array(pi0),\n",
    "    dt=dt,\n",
    "    t0=0,\n",
    "    t_sample_count=t_sample_count,\n",
    "    r=r,\n",
    "    debug=True\n",
    ")\n",
    "\n",
    "jax_results_fmt = format_jax(jax_results)\n",
    "jax_results_fmt"
   ],
   "metadata": {
    "collapsed": false
   },
   "id": "e8c1bd35885909dc"
  },
  {
   "cell_type": "code",
   "execution_count": null,
   "outputs": [],
   "source": [
    "plt.plot(t, original_results_fmt[:, 0], label='sympy q', color='C0')\n",
    "plt.scatter(t, jax_results_fmt[:, 0], label='jax q', color='C0', marker='x')\n",
    "plt.plot(t, original_results_fmt[:, 1], label='sympy $\\pi$', color='C1', )\n",
    "plt.scatter(t, jax_results_fmt[:, 1], label='jax $\\pi$', color='C1', marker='x')\n",
    "plt.legend()"
   ],
   "metadata": {
    "collapsed": false
   },
   "id": "37fbfef4f4bf1dd6"
  },
  {
   "cell_type": "code",
   "outputs": [],
   "source": [
    "dho._pi_np1_map(*integrate_debug_escape_info['_pi_np1_map_args'][1])"
   ],
   "metadata": {
    "collapsed": false
   },
   "id": "ff7f2cda4ec8a5b9",
   "execution_count": null
  },
  {
   "cell_type": "code",
   "outputs": [],
   "source": [
    "dho.debug_escape_info"
   ],
   "metadata": {
    "collapsed": false
   },
   "id": "e992d79eafa7ba84",
   "execution_count": null
  },
  {
   "cell_type": "code",
   "outputs": [],
   "source": [
    "integrate_debug_escape_info"
   ],
   "metadata": {
    "collapsed": false
   },
   "id": "f8d8410f9bf4dfe9",
   "execution_count": null
  },
  {
   "cell_type": "markdown",
   "source": [
    "# THESE SHOULD BE EQUAL WTF"
   ],
   "metadata": {
    "collapsed": false
   },
   "id": "6472584ef55926c9"
  },
  {
   "cell_type": "code",
   "outputs": [],
   "source": [
    "jax_debug_info['compute_qi_values'](\n",
    "    jnp.array(q0),\n",
    "    jnp.array(pi0),\n",
    "    t0\n",
    ")"
   ],
   "metadata": {
    "collapsed": false
   },
   "id": "6699d3eadebf1d51",
   "execution_count": null
  },
  {
   "cell_type": "code",
   "outputs": [],
   "source": [
    "1.0, 0.9975"
   ],
   "metadata": {
    "collapsed": false
   },
   "id": "faecc1aea6358921",
   "execution_count": null
  },
  {
   "cell_type": "code",
   "outputs": [],
   "source": [
    "0.9975, 0.9850250000000002"
   ],
   "metadata": {
    "collapsed": false
   },
   "id": "7dbe43a6fbf136cf",
   "execution_count": null
  },
  {
   "cell_type": "code",
   "outputs": [],
   "source": [
    "jax_debug_info['residue'](\n",
    "    jax_debug_info['compute_qi_values'](\n",
    "        jnp.array(q0),\n",
    "        jnp.array(pi0),\n",
    "        t0\n",
    "    ), t0, jnp.array(pi0))"
   ],
   "metadata": {
    "collapsed": false
   },
   "id": "89024218ed33141b",
   "execution_count": null
  },
  {
   "cell_type": "code",
   "outputs": [],
   "source": [],
   "metadata": {
    "collapsed": false
   },
   "id": "162c6bfe01ecb80d",
   "execution_count": null
  }
 ],
 "metadata": {
  "kernelspec": {
   "display_name": "Python 3",
   "language": "python",
   "name": "python3"
  },
  "language_info": {
   "codemirror_mode": {
    "name": "ipython",
    "version": 2
   },
   "file_extension": ".py",
   "mimetype": "text/x-python",
   "name": "python",
   "nbconvert_exporter": "python",
   "pygments_lexer": "ipython2",
   "version": "2.7.6"
  }
 },
 "nbformat": 4,
 "nbformat_minor": 5
}
