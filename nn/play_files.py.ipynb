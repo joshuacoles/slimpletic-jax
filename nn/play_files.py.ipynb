{
 "cells": [
  {
   "cell_type": "code",
   "execution_count": 42,
   "id": "initial_id",
   "metadata": {
    "collapsed": true,
    "ExecuteTime": {
     "end_time": "2024-03-12T12:24:55.604645Z",
     "start_time": "2024-03-12T12:24:55.600900Z"
    }
   },
   "outputs": [],
   "source": [
    "from slimpletic import SolverScan, DiscretisedSystem, GGLBundle\n",
    "import jax, jax.numpy as jnp\n",
    "import matplotlib.pyplot as plt\n",
    "import numpy as np"
   ]
  },
  {
   "cell_type": "code",
   "outputs": [],
   "source": [
    "m = 1\n",
    "g = 9\n",
    "\n",
    "system = DiscretisedSystem(\n",
    "    ggl_bundle=GGLBundle(r=1),\n",
    "    lagrangian=lambda xy, v, t: 0.5 * m * jnp.dot(v, v) - (m * g * xy[1]),\n",
    "    dt=0.1\n",
    ")"
   ],
   "metadata": {
    "collapsed": false,
    "ExecuteTime": {
     "end_time": "2024-03-11T21:05:32.219666Z",
     "start_time": "2024-03-11T21:05:32.132241Z"
    }
   },
   "id": "15e0f67b4e4f265a",
   "execution_count": 4
  },
  {
   "cell_type": "code",
   "outputs": [],
   "source": [
    "solver = SolverScan(system)"
   ],
   "metadata": {
    "collapsed": false,
    "ExecuteTime": {
     "end_time": "2024-03-12T12:18:35.800570Z",
     "start_time": "2024-03-12T12:18:35.797520Z"
    }
   },
   "id": "9e16e67aad052b76",
   "execution_count": 6
  },
  {
   "cell_type": "code",
   "outputs": [
    {
     "data": {
      "text/plain": "Array(1.2246468e-16, dtype=float64, weak_type=True)"
     },
     "execution_count": 46,
     "metadata": {},
     "output_type": "execute_result"
    }
   ],
   "source": [
    "jnp.sin(jnp.pi)"
   ],
   "metadata": {
    "collapsed": false,
    "ExecuteTime": {
     "end_time": "2024-03-12T12:25:31.865427Z",
     "start_time": "2024-03-12T12:25:31.861578Z"
    }
   },
   "id": "1c1fd0374c187706",
   "execution_count": 46
  },
  {
   "cell_type": "code",
   "outputs": [
    {
     "data": {
      "text/plain": "<matplotlib.collections.PathCollection at 0x28ecb9a90>"
     },
     "execution_count": 51,
     "metadata": {},
     "output_type": "execute_result"
    },
    {
     "data": {
      "text/plain": "<Figure size 640x480 with 1 Axes>",
      "image/png": "[encoded data removed]"
     },
     "metadata": {},
     "output_type": "display_data"
    }
   ],
   "source": [
    "angle = jnp.pi\n",
    "q0 = jnp.array([0, 0.0])\n",
    "pi0 = 2 * jnp.array([jnp.cos(angle), jnp.sin(angle)])\n",
    "\n",
    "q, pi = solver.integrate(\n",
    "    q0=q0,\n",
    "    pi0=pi0,\n",
    "    t0=0,\n",
    "    iterations=100,\n",
    "    result_orientation='coordinate'\n",
    ")\n",
    "\n",
    "plt.plot(\n",
    "    xlim=(-10, 10)\n",
    ")\n",
    "plt.scatter(\n",
    "    q[0], q[1],\n",
    ")"
   ],
   "metadata": {
    "collapsed": false,
    "ExecuteTime": {
     "end_time": "2024-03-12T12:26:41.689810Z",
     "start_time": "2024-03-12T12:26:41.597201Z"
    }
   },
   "id": "b96a65b9a17fc3e4",
   "execution_count": 51
  },
  {
   "cell_type": "code",
   "outputs": [],
   "source": [],
   "metadata": {
    "collapsed": false
   },
   "id": "65cb1274083f23e2"
  }
 ],
 "metadata": {
  "kernelspec": {
   "display_name": "Python 3",
   "language": "python",
   "name": "python3"
  },
  "language_info": {
   "codemirror_mode": {
    "name": "ipython",
    "version": 2
   },
   "file_extension": ".py",
   "mimetype": "text/x-python",
   "name": "python",
   "nbconvert_exporter": "python",
   "pygments_lexer": "ipython2",
   "version": "2.7.6"
  }
 },
 "nbformat": 4,
 "nbformat_minor": 5
}
