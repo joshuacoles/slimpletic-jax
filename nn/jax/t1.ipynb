{
 "cells": [
  {
   "cell_type": "code",
   "execution_count": 1,
   "id": "initial_id",
   "metadata": {
    "collapsed": true,
    "ExecuteTime": {
     "end_time": "2024-03-11T12:34:00.163027Z",
     "start_time": "2024-03-11T12:33:58.603828Z"
    }
   },
   "outputs": [],
   "source": [
    "import flax.linen as nn\n",
    "import jax, jax.numpy as jnp"
   ]
  },
  {
   "cell_type": "code",
   "outputs": [],
   "source": [
    "training_epochs = 4000\n",
    "training_time_steps = 10\n",
    "training_datasize = 20480"
   ],
   "metadata": {
    "collapsed": false,
    "ExecuteTime": {
     "end_time": "2024-03-11T12:38:09.083422Z",
     "start_time": "2024-03-11T12:38:09.080882Z"
    }
   },
   "id": "d4adebfa5f140069",
   "execution_count": 2
  },
  {
   "cell_type": "code",
   "outputs": [
    {
     "data": {
      "text/plain": "Array([[[-0.02776539, -0.09947269, -0.35887945, ...,  0.1575224 ,\n          0.02195803,  0.01176363],\n        [-0.06707337, -0.10323231, -0.49960035, ...,  0.21516931,\n          0.02352902,  0.00946351],\n        [-0.10023084, -0.08195096, -0.565464  , ...,  0.23122399,\n          0.02382251,  0.00786299],\n        ...,\n        [-0.14599933, -0.05934289, -0.6633949 , ...,  0.24032372,\n          0.02364738,  0.01068131],\n        [-0.14599778, -0.05934377, -0.66339415, ...,  0.2403252 ,\n          0.02364752,  0.01068177],\n        [-0.14599648, -0.05934456, -0.66339356, ...,  0.2403265 ,\n          0.02364765,  0.01068216]],\n\n       [[-0.02776539, -0.09947269, -0.35887945, ...,  0.1575224 ,\n          0.02195803,  0.01176363],\n        [-0.06707337, -0.10323231, -0.49960035, ...,  0.21516931,\n          0.02352902,  0.00946351],\n        [-0.10023084, -0.08195096, -0.565464  , ...,  0.23122399,\n          0.02382251,  0.00786299],\n        ...,\n        [-0.14599933, -0.05934289, -0.6633949 , ...,  0.24032372,\n          0.02364738,  0.01068131],\n        [-0.14599778, -0.05934377, -0.66339415, ...,  0.2403252 ,\n          0.02364752,  0.01068177],\n        [-0.14599648, -0.05934456, -0.66339356, ...,  0.2403265 ,\n          0.02364765,  0.01068216]],\n\n       [[-0.02776539, -0.09947269, -0.35887945, ...,  0.1575224 ,\n          0.02195803,  0.01176363],\n        [-0.06707337, -0.10323231, -0.49960035, ...,  0.21516931,\n          0.02352902,  0.00946351],\n        [-0.10023084, -0.08195096, -0.565464  , ...,  0.23122399,\n          0.02382251,  0.00786299],\n        ...,\n        [-0.14599933, -0.05934289, -0.6633949 , ...,  0.24032372,\n          0.02364738,  0.01068131],\n        [-0.14599778, -0.05934377, -0.66339415, ...,  0.2403252 ,\n          0.02364752,  0.01068177],\n        [-0.14599648, -0.05934456, -0.66339356, ...,  0.2403265 ,\n          0.02364765,  0.01068216]],\n\n       ...,\n\n       [[-0.02776539, -0.09947269, -0.35887945, ...,  0.1575224 ,\n          0.02195803,  0.01176363],\n        [-0.06707337, -0.10323231, -0.49960035, ...,  0.21516931,\n          0.02352902,  0.00946351],\n        [-0.10023084, -0.08195096, -0.565464  , ...,  0.23122399,\n          0.02382251,  0.00786299],\n        ...,\n        [-0.14599933, -0.05934289, -0.6633949 , ...,  0.24032372,\n          0.02364738,  0.01068131],\n        [-0.14599778, -0.05934377, -0.66339415, ...,  0.2403252 ,\n          0.02364752,  0.01068177],\n        [-0.14599648, -0.05934456, -0.66339356, ...,  0.2403265 ,\n          0.02364765,  0.01068216]],\n\n       [[-0.02776539, -0.09947269, -0.35887945, ...,  0.1575224 ,\n          0.02195803,  0.01176363],\n        [-0.06707337, -0.10323231, -0.49960035, ...,  0.21516931,\n          0.02352902,  0.00946351],\n        [-0.10023084, -0.08195096, -0.565464  , ...,  0.23122399,\n          0.02382251,  0.00786299],\n        ...,\n        [-0.14599933, -0.05934289, -0.6633949 , ...,  0.24032372,\n          0.02364738,  0.01068131],\n        [-0.14599778, -0.05934377, -0.66339415, ...,  0.2403252 ,\n          0.02364752,  0.01068177],\n        [-0.14599648, -0.05934456, -0.66339356, ...,  0.2403265 ,\n          0.02364765,  0.01068216]],\n\n       [[-0.02776539, -0.09947269, -0.35887945, ...,  0.1575224 ,\n          0.02195803,  0.01176363],\n        [-0.06707337, -0.10323231, -0.49960035, ...,  0.21516931,\n          0.02352902,  0.00946351],\n        [-0.10023084, -0.08195096, -0.565464  , ...,  0.23122399,\n          0.02382251,  0.00786299],\n        ...,\n        [-0.14599933, -0.05934289, -0.6633949 , ...,  0.24032372,\n          0.02364738,  0.01068131],\n        [-0.14599778, -0.05934377, -0.66339415, ...,  0.2403252 ,\n          0.02364752,  0.01068177],\n        [-0.14599648, -0.05934456, -0.66339356, ...,  0.2403265 ,\n          0.02364765,  0.01068216]]], dtype=float32)"
     },
     "execution_count": 11,
     "metadata": {},
     "output_type": "execute_result"
    }
   ],
   "source": [
    " # (batch, time, features)\n",
    "x = jnp.ones((10, 50, 32)).astype('float32')\n",
    "lstm = nn.RNN(nn.LSTMCell(64))\n",
    "variables = lstm.init(jax.random.key(0), x)\n",
    "y = lstm.apply(variables, x)\n",
    "y"
   ],
   "metadata": {
    "collapsed": false,
    "ExecuteTime": {
     "end_time": "2024-03-11T12:44:36.183112Z",
     "start_time": "2024-03-11T12:44:35.981089Z"
    }
   },
   "id": "2d2a891ad3960d75",
   "execution_count": 11
  },
  {
   "cell_type": "code",
   "outputs": [],
   "source": [
    "class Model(nn.Module):\n",
    "    @nn.compact\n",
    "    def __call__(self, x, train):\n",
    "        # x shape should be (batch, time, features)\n",
    "        # features is x, xdot, v, vdot, t\n",
    "        x = nn.RNN(nn.LSTMCell(features=5))(x)\n",
    "        x = nn.Dropout(0.3, deterministic=not train)(x)\n",
    "        x = x.reshape((x.shape[0], -1))\n",
    "        x = nn.Dense(5)(x)\n",
    "        return x\n",
    "\n",
    "        \n",
    "        # x = nn.Conv(features=32, kernel_size=(3, 3))(x)\n",
    "        # x = nn.relu(x)\n",
    "        # x = nn.avg_pool(x, window_shape=(2, 2), strides=(2, 2))\n",
    "        # x = nn.Conv(features=64, kernel_size=(3, 3))(x)\n",
    "        # x = nn.relu(x)\n",
    "        # x = nn.avg_pool(x, window_shape=(2, 2), strides=(2, 2))\n",
    "        # x = x.reshape((x.shape[0], -1))  # flatten\n",
    "        # x = nn.Dense(features=256)(x)\n",
    "        # x = nn.relu(x)\n",
    "        # x = nn.Dense(features=10)(x)\n",
    "        # return x"
   ],
   "metadata": {
    "collapsed": false,
    "ExecuteTime": {
     "end_time": "2024-03-11T13:03:41.833323Z",
     "start_time": "2024-03-11T13:03:41.829468Z"
    }
   },
   "id": "7193654465da295b",
   "execution_count": 60
  },
  {
   "cell_type": "code",
   "outputs": [],
   "source": [
    "model = Model()"
   ],
   "metadata": {
    "collapsed": false,
    "ExecuteTime": {
     "end_time": "2024-03-11T13:03:42.189233Z",
     "start_time": "2024-03-11T13:03:42.186969Z"
    }
   },
   "id": "43b24dd9309615b7",
   "execution_count": 61
  },
  {
   "cell_type": "code",
   "outputs": [],
   "source": [
    "x = jnp.ones((100, 100, 5)).astype('float32')"
   ],
   "metadata": {
    "collapsed": false,
    "ExecuteTime": {
     "end_time": "2024-03-11T13:03:42.412496Z",
     "start_time": "2024-03-11T13:03:42.410066Z"
    }
   },
   "id": "5eab4cd77cde2154",
   "execution_count": 62
  },
  {
   "cell_type": "code",
   "outputs": [],
   "source": [
    "variables = model.init(jax.random.key(0), x, train=False)\n",
    "y = model.apply(variables, x, False)"
   ],
   "metadata": {
    "collapsed": false,
    "ExecuteTime": {
     "end_time": "2024-03-11T13:03:43.060448Z",
     "start_time": "2024-03-11T13:03:42.748940Z"
    }
   },
   "id": "c9fb6e4171c5db1",
   "execution_count": 63
  },
  {
   "cell_type": "code",
   "outputs": [
    {
     "data": {
      "text/plain": "(100, 5)"
     },
     "execution_count": 64,
     "metadata": {},
     "output_type": "execute_result"
    }
   ],
   "source": [
    "y.shape"
   ],
   "metadata": {
    "collapsed": false,
    "ExecuteTime": {
     "end_time": "2024-03-11T13:03:43.159171Z",
     "start_time": "2024-03-11T13:03:43.156129Z"
    }
   },
   "id": "5296942af7288fca",
   "execution_count": 64
  },
  {
   "cell_type": "code",
   "outputs": [
    {
     "data": {
      "text/plain": "(100, 100, 1)"
     },
     "execution_count": 53,
     "metadata": {},
     "output_type": "execute_result"
    }
   ],
   "source": [
    "y.shape"
   ],
   "metadata": {
    "collapsed": false,
    "ExecuteTime": {
     "end_time": "2024-03-11T13:03:10.494962Z",
     "start_time": "2024-03-11T13:03:10.491965Z"
    }
   },
   "id": "a6a19710ccd0bf06",
   "execution_count": 53
  },
  {
   "cell_type": "code",
   "outputs": [],
   "source": [],
   "metadata": {
    "collapsed": false
   },
   "id": "a021fa1876453"
  }
 ],
 "metadata": {
  "kernelspec": {
   "display_name": "Python 3",
   "language": "python",
   "name": "python3"
  },
  "language_info": {
   "codemirror_mode": {
    "name": "ipython",
    "version": 2
   },
   "file_extension": ".py",
   "mimetype": "text/x-python",
   "name": "python",
   "nbconvert_exporter": "python",
   "pygments_lexer": "ipython2",
   "version": "2.7.6"
  }
 },
 "nbformat": 4,
 "nbformat_minor": 5
}
