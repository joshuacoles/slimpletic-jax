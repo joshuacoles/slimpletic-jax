{
 "cells": [
  {
   "cell_type": "code",
   "execution_count": 1,
   "id": "initial_id",
   "metadata": {
    "collapsed": true,
    "ExecuteTime": {
     "end_time": "2024-02-06T13:36:57.852814Z",
     "start_time": "2024-02-06T13:36:57.054471Z"
    }
   },
   "outputs": [],
   "source": [
    "from original.slimplectic_GGL import GGL_Gen_Ld"
   ]
  },
  {
   "cell_type": "code",
   "outputs": [],
   "source": [
    "GGL_Gen_Ld(\n",
    "    tsymbol=Symbol('t'),\n",
    "    ddt=\n",
    ")"
   ],
   "metadata": {
    "collapsed": false
   },
   "id": "a79a6a06e7577b4a"
  }
 ],
 "metadata": {
  "kernelspec": {
   "display_name": "Python 3",
   "language": "python",
   "name": "python3"
  },
  "language_info": {
   "codemirror_mode": {
    "name": "ipython",
    "version": 2
   },
   "file_extension": ".py",
   "mimetype": "text/x-python",
   "name": "python",
   "nbconvert_exporter": "python",
   "pygments_lexer": "ipython2",
   "version": "2.7.6"
  }
 },
 "nbformat": 4,
 "nbformat_minor": 5
}
