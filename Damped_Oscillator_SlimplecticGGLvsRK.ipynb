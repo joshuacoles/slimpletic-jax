{
 "cells": [
  {
   "cell_type": "markdown",
   "metadata": {},
   "source": [
    "## Simple damped harmonic oscillator"
   ]
  },
  {
   "cell_type": "markdown",
   "metadata": {},
   "source": [
    "This example notebook characterizes the slimplectic Galerkin-Gauss-Lobatto variational integrator with the simple damped harmonic oscillator, which has a known analytical solution. \n",
    "\n",
    "The conservative part $L$ of the total Lagrangian $\\Lambda$ is\n",
    "$$L = \\frac{1}{2} m \\dot{q}^2 - \\frac{1}{2} k q^2$$\n",
    "and the nonconservative part $K$ is\n",
    "$$K = - \\lambda \\dot{q}_+ q_- \\, .$$\n",
    "The known analytical solution to the equations of motion is\n",
    "$$q(t) = q(0)e^{-\\lambda t/ 2} \\cos \\left( \\Omega t + \\phi(0) \\right)$$ \n",
    "where \n",
    "$$\\Omega = \\sqrt{ \\frac{k}{m} - \\frac{\\lambda^2 }{ 4} }$$\n",
    "and the initial velocity $\\dot{q}(0)$ is related to $\\phi(0)$ through\n",
    "$$\\dot{q}(0) = - q(0) \\left( \\frac{ \\lambda}{2} \\cos \\phi(0) + \\Omega \\sin \\phi(0) \\right).$$\n",
    "\n",
    "In this notebook, we take $\\lambda = 10^{-4}\\sqrt{m k}$ though other choices are possible, of course. "
   ]
  },
  {
   "cell_type": "code",
   "execution_count": 1,
   "metadata": {
    "collapsed": false
   },
   "outputs": [],
   "source": [
    "%matplotlib inline\n",
    "from __future__ import print_function\n",
    "import numpy as np, matplotlib.pyplot as plt\n",
    "import slimplectic"
   ]
  },
  {
   "cell_type": "code",
   "execution_count": 5,
   "metadata": {
    "collapsed": false
   },
   "outputs": [],
   "source": [
    "# Set harmonic oscillator parameters\n",
    "m = 1.0\n",
    "k = 1.0\n",
    "ll = 1e-4*np.sqrt(m*k)  # ll is $\\lambda$ in the paper"
   ]
  },
  {
   "cell_type": "markdown",
   "metadata": {},
   "source": [
    "### Slimplectic integration"
   ]
  },
  {
   "cell_type": "code",
   "execution_count": 6,
   "outputs": [
    {
     "data": {
      "text/plain": "<module 'slimplectic' from '/Users/aengus/PycharmProjects/ai-physicist/slimplectic.py'>"
     },
     "execution_count": 6,
     "metadata": {},
     "output_type": "execute_result"
    }
   ],
   "source": [
    "slimplectic"
   ],
   "metadata": {
    "collapsed": false
   }
  },
  {
   "cell_type": "code",
   "execution_count": 7,
   "metadata": {
    "collapsed": true
   },
   "outputs": [],
   "source": [
    "# Create an instance of the GalerkinGaussLobatto class and call it `dho` for damped harmonic oscillator.\n",
    "dho = slimplectic.GalerkinGaussLobatto('t', ['q'], ['v'])"
   ]
  },
  {
   "cell_type": "code",
   "execution_count": 8,
   "metadata": {
    "collapsed": false
   },
   "outputs": [
    {
     "name": "stdout",
     "output_type": "stream",
     "text": [
      "L = -0.5*q**2 + 0.5*v**2\n",
      "K = -0.0001*q_-*v_+\n"
     ]
    }
   ],
   "source": [
    "# Define the conservative $L$ and nonconservative $K$ parts of the total Lagrangian $\\Lambda$\n",
    "L = 0.5*m*np.dot(dho.v, dho.v) - 0.5*k*np.dot(dho.q, dho.q)\n",
    "K = -ll*np.dot(dho.vp, dho.qm)\n",
    "\n",
    "print(\"L =\", L)\n",
    "print(\"K =\", K)"
   ]
  },
  {
   "cell_type": "code",
   "execution_count": 10,
   "metadata": {
    "collapsed": false
   },
   "outputs": [
    {
     "name": "stdout",
     "output_type": "stream",
     "text": [
      "===================================\n",
      "For Lagrangian:\n",
      "\t L = - 0.5 q^{2} + 0.5 v^{2}\n",
      "and K-potential:\n",
      "\t K = - 0.0001 q_{-} v_{+}\n",
      "********************\n",
      "The Order 2 discretized Lagrangian is:\n",
      "\t L_d^n = \\frac{h_{GGL} \\left(- \\frac{\\left({q^{[n+1]}}\\right)^{2}}{2} + \\frac{\\left({q^{[n+1]}} - {q^{[n]}}\\right)^{2}}{2 h_{GGL}^{2}}\\right)}{2} + \\frac{h_{GGL} \\left(- \\frac{\\left({q^{[n]}}\\right)^{2}}{2} + \\frac{\\left({q^{[n+1]}} - {q^{[n]}}\\right)^{2}}{2 h_{GGL}^{2}}\\right)}{2}\n",
      "The Order 2 discretized K-potential is:\n",
      "\t K_d^n = - \\frac{{q_-^{[n+1]}} \\left({q_+^{[n+1]}} - {q_+^{[n]}}\\right)}{20000} - \\frac{{q_-^{[n]}} \\left({q_+^{[n+1]}} - {q_+^{[n]}}\\right)}{20000}\n",
      "********************\n",
      "The Order 2 Discretized Equations of motion:\n",
      "\t0 = \\pi_q^{[n]} - \\frac{h_{GGL} {q^{[n]}}}{2} - \\frac{{q^{[n+1]}}}{20000} + \\frac{{q^{[n]}}}{20000} - \\frac{{q^{[n+1]}}}{h_{GGL}} + \\frac{{q^{[n]}}}{h_{GGL}}\n",
      "\t0 = - \\pi_q^{[n+1]} - \\frac{h_{GGL} {q^{[n+1]}}}{2} - \\frac{{q^{[n+1]}}}{20000} + \\frac{{q^{[n]}}}{20000} + \\frac{{q^{[n+1]}}}{h_{GGL}} - \\frac{{q^{[n]}}}{h_{GGL}}\n",
      "===================================\n"
     ]
    }
   ],
   "source": [
    "# Discretize the total Lagrangian using a 2nd order (r=0) explicit scheme.\n",
    "# We select verbose output to show the discretization of the total Lagrangian and corresponding equations of motion.\n",
    "dho.discretize(L, K, 0, method='explicit', verbose=True)"
   ]
  },
  {
   "cell_type": "code",
   "execution_count": 11,
   "metadata": {
    "collapsed": false
   },
   "outputs": [],
   "source": [
    "# Specify time samples at which the numerical solution is to be given initial data\n",
    "\n",
    "# Time samples\n",
    "dt = 0.1*np.sqrt(m/k)\n",
    "tmax = 10000*np.sqrt(m/k)\n",
    "t = dt*np.arange(0, int(tmax/dt)+1)\n",
    "\n",
    "# Initial data (at t=0)\n",
    "q0 = [1.]\n",
    "pi0 = [0.25*dt*k]\n",
    "# The initial condition for pi0 is chosen because the 2nd order slimplectic method \n",
    "# has $\\pi$ actually evaluated at the mid-step, and it needs corrections to that effect.\n",
    "# Otherwise, the phase is off and the energy has a constant offset. "
   ]
  },
  {
   "cell_type": "code",
   "execution_count": 12,
   "metadata": {
    "collapsed": false
   },
   "outputs": [],
   "source": [
    "# Now integrate the 2nd order slimplectic integrator\n",
    "q_slim2, pi_slim2 = dho.integrate(q0, pi0, t)"
   ]
  },
  {
   "cell_type": "code",
   "execution_count": null,
   "metadata": {
    "collapsed": false
   },
   "outputs": [],
   "source": [
    "# For a 4th order (r=1) explicit scheme we run\n",
    "dho.discretize(L, K, 1, method='explicit')\n",
    "\n",
    "# ...and then integrate to get the corresponding numerical solution\n",
    "pi0 = [0.]\n",
    "q_slim4, pi_slim4 = dho.integrate(q0, pi0, t)"
   ]
  },
  {
   "cell_type": "markdown",
   "metadata": {},
   "source": [
    "### Runge-Kutta integration"
   ]
  },
  {
   "cell_type": "markdown",
   "metadata": {},
   "source": [
    "Generate the 2nd and 4th order Runge-Kutta solutions to compare below with output from the slimplectic integrators."
   ]
  },
  {
   "cell_type": "code",
   "execution_count": null,
   "metadata": {
    "collapsed": false
   },
   "outputs": [],
   "source": [
    "# Instantiate the 2nd and 4th order Runge-Kutta classes\n",
    "rk2 = slimplectic.RungeKutta2()\n",
    "rk4 = slimplectic.RungeKutta4()\n",
    "\n",
    "# Define the derivative operator for a simple damped harmonic oscillator\n",
    "def dydt(time, y):\n",
    "    deriv = np.zeros(2)\n",
    "    [q_x, v_x] = y\n",
    "    deriv[0] = v_x\n",
    "    deriv[1] = - (k/m)*q_x - (ll/m)*v_x \n",
    "    return deriv\n",
    "\n",
    "# Integrate\n",
    "v0 = [0.]\n",
    "q_rk2, v_rk2 = rk2.integrate(q0, v0, t, dydt)\n",
    "q_rk4, v_rk4 = rk4.integrate(q0, v0, t, dydt)\n",
    "\n",
    "# Please note that q and pi are outputs of the slimplectic integration, \n",
    "# while q and v are output from the Runge-Kutta integrators."
   ]
  },
  {
   "cell_type": "markdown",
   "metadata": {},
   "source": [
    "### Comparison plots"
   ]
  },
  {
   "cell_type": "markdown",
   "metadata": {},
   "source": [
    "Plot the oscillator amplitude $q(t)$ for the 2nd and 4th order slimplectic and RK integrators along with the analytical solution."
   ]
  },
  {
   "cell_type": "code",
   "execution_count": null,
   "metadata": {
    "collapsed": true
   },
   "outputs": [],
   "source": [
    "# Analytical solution\n",
    "Omega = np.sqrt(k/m - ll**2/4.)\n",
    "phi0 = - np.arctan(-ll/(2.*Omega))    \n",
    "\n",
    "def q(time):\n",
    "    \"\"\"Analytical solution for simple damped harmonic oscillator amplitude with q0=1, v0=0\"\"\"\n",
    "    return np.exp(-ll*time/2.)*np.cos(Omega*time + phi0)\n",
    "\n",
    "def v(time):\n",
    "    \"\"\"Analytical solution for simple damped harmonic oscillator velocity with q0=1, v0=0\"\"\"\n",
    "    return np.exp(-ll*time/2.)*( -ll/2.*np.cos(Omega*time+phi0) - Omega*np.sin(Omega*time+phi0) )"
   ]
  },
  {
   "cell_type": "code",
   "execution_count": null,
   "metadata": {
    "collapsed": false
   },
   "outputs": [],
   "source": [
    "fig1 = plt.figure(figsize=(12,5), dpi=800)\n",
    "fig1.subplots_adjust(wspace=0.05)\n",
    "\n",
    "# Early times...\n",
    "ax1a = fig1.add_subplot(1,4,1)\n",
    "ax1a.set_ylim(-2, 2)\n",
    "ax1a.set_xlim(0,24)\n",
    "ax1a.plot(t, q_slim2[0], 'r-', linewidth=2.0, rasterized=True)\n",
    "ax1a.plot(t, q_slim4[0], color='orange', linewidth=2.0, rasterized=True)\n",
    "ax1a.plot(t, q_rk2[0], 'g--', linewidth=2.0, rasterized=True)\n",
    "ax1a.plot(t, q_rk4[0], 'b--', linewidth=2.0, rasterized=True)\n",
    "ax1a.plot(t, q(t), 'k:', linewidth=2.0, rasterized=True)\n",
    "\n",
    "# Middle times...\n",
    "ax1b = fig1.add_subplot(1,4,(2,3))\n",
    "plt.setp(ax1b.get_yticklabels(), visible=False)\n",
    "ax1b.set_ylim(-2, 2)\n",
    "ax1b.set_xlim(24.9,9975.9)\n",
    "ax1b.plot(t, q_slim2[0], linewidth=2.0, linestyle='-', color='red', rasterized=True)\n",
    "ax1b.plot(t, q_slim4[0], linewidth=2.0, linestyle='-', color='orange', rasterized=True)\n",
    "ax1b.plot(t, q_rk2[0], linewidth=2.0, linestyle='--', color='g', rasterized=True)\n",
    "ax1b.plot(t, q_rk4[0], linewidth=2.0, linestyle='--', color='blue', rasterized=True)\n",
    "\n",
    "# Late times...\n",
    "ax1c = fig1.add_subplot(1,4,4)\n",
    "plt.setp(ax1c.get_yticklabels(), visible=False)\n",
    "ax1c.set_ylim(-2, 2)\n",
    "ax1c.set_xlim(9976,10000)\n",
    "ax1c.plot(t, q_slim2[0], linewidth=2.0, linestyle='-', color='red', rasterized=True)\n",
    "ax1c.plot(t, q_slim4[0], linewidth=2.0, linestyle='-', color='orange', rasterized=True)\n",
    "ax1c.plot(t, q_rk2[0], linewidth=2.0, linestyle='--', color='g', rasterized=True)\n",
    "ax1c.plot(t, q_rk4[0], linewidth=2.0, linestyle='--', color='blue', rasterized=True)\n",
    "ax1c.plot(t, q(t), 'k:', linewidth=2.0, rasterized=True)\n",
    "\n",
    "ax1a.tick_params(axis='both', which='major', labelsize=16)\n",
    "ax1b.tick_params(axis='both', which='major', labelsize=16)\n",
    "ax1c.tick_params(axis='both', which='major', labelsize=16)\n",
    "ax1c.set_xticks([9980, 9990, 10000])\n",
    "\n",
    "ax1b.set_xlabel('Time, $t$ [$(m/k)^{1/2}$]', fontsize=18)\n",
    "ax1a.set_ylabel('Oscillator Amplitude, $q$', fontsize=18)"
   ]
  },
  {
   "cell_type": "code",
   "execution_count": null,
   "metadata": {
    "collapsed": false
   },
   "outputs": [],
   "source": [
    "#fig1.savefig(\"plot_path\" + \"DampSimpleCombined.pdf\", transparent=True,bbox_inches='tight', dpi=500)"
   ]
  },
  {
   "cell_type": "markdown",
   "metadata": {},
   "source": [
    "Let's see how the oscillator's energy changes with time according to the different orders and integration schemes. The energy is\n",
    "$$E = \\frac{1}{2} m \\dot{q}^2 + \\frac{1}{2} k q^2$$\n",
    "and changes in time according to\n",
    "$$\\frac{ dE}{dt} = - \\lambda \\dot{q}^2.$$\n",
    "\n",
    "To quantify the errors incurred by discretization and subsequent numerical integration, we define the fractional or relative energy difference as $\\delta E / E = ( E_X - E )/ E$ where $E_X$ is the energy as measured by integrator $X$ with $X \\in \\{ {\\rm Slim2,~Slim4,~RK2,~RK4} \\}$."
   ]
  },
  {
   "cell_type": "code",
   "execution_count": null,
   "metadata": {
    "collapsed": true
   },
   "outputs": [],
   "source": [
    "# Energy function\n",
    "def Energy(q, v):\n",
    "    return 0.5*m*v**2 + 0.5*k*q**2\n",
    "\n",
    "# Energies from the analytic solution and from different integrators\n",
    "E = Energy(q(t), v(t))\n",
    "\n",
    "E_slim2 = Energy(q_slim2[0], pi_slim2[0]/m)\n",
    "E_slim4 = Energy(q_slim4[0], pi_slim4[0]/m)\n",
    "\n",
    "E_rk2 = Energy(q_rk2[0], v_rk2[0])\n",
    "E_rk4 = Energy(q_rk4[0], v_rk4[0])"
   ]
  },
  {
   "cell_type": "code",
   "execution_count": null,
   "metadata": {
    "collapsed": false
   },
   "outputs": [],
   "source": [
    "fig2 = plt.figure(figsize=(12,5), dpi=500)\n",
    "\n",
    "ax2 = fig2.add_subplot(1,1,1)\n",
    "ax2.set_ylim(1e-10, 1e1)\n",
    "ax2.set_xlim(0.1, 10000)\n",
    "\n",
    "ax2.loglog(t, np.abs(E_slim2/E-1.), 'r-', linewidth=2.0, rasterized=True)\n",
    "ax2.loglog(t, np.abs(E_slim4/E-1.), color='orange', linestyle='-', linewidth=2.0, rasterized=True)\n",
    "ax2.loglog(t, np.abs(E_rk2/E-1.), 'g--', linewidth=2.0, rasterized=True)\n",
    "ax2.loglog(t, np.abs(E_rk4/E-1.), 'b--', linewidth=2.0, rasterized=True)\n",
    "\n",
    "ax2.set_xlabel('Time, $t$ [$(m/k)^{1/2}$]', fontsize=18)\n",
    "ax2.set_ylabel('Fractional energy error, $\\delta E/E$', fontsize=18)\n",
    "\n",
    "ax2.text(0.12, 0.75, r'$\\Delta t = 0.1 (m/k)^{1/2}$', fontsize=18, color='k')\n",
    "ax2.text(50, 3e-4, r'$2^{nd}$ order Slimplectic', fontsize=15, color='k')\n",
    "ax2.text(50, 6e-8, r'$4^{th}$ order Slimplectic', fontsize=15, color='black')\n",
    "ax2.text(2, 3e-6, r'$4^{th}$ order RK', fontsize=15, color='b', rotation=11)\n",
    "ax2.text(50, 1.5e-1, r'$2^{nd}$ order RK', fontsize=15, color='g', rotation=11)\n",
    "\n",
    "ax2.tick_params(axis='both', which='major', labelsize=16)"
   ]
  },
  {
   "cell_type": "code",
   "execution_count": null,
   "metadata": {
    "collapsed": false
   },
   "outputs": [],
   "source": [
    "#fig2.savefig(plot_path + \"DampSimpleELog.pdf\", transparent=True,bbox_inches='tight', dpi=300)"
   ]
  },
  {
   "cell_type": "code",
   "execution_count": null,
   "metadata": {
    "collapsed": true
   },
   "outputs": [],
   "source": []
  }
 ],
 "metadata": {
  "kernelspec": {
   "display_name": "Python 3",
   "language": "python",
   "name": "python3"
  },
  "language_info": {
   "codemirror_mode": {
    "name": "ipython",
    "version": 3
   },
   "file_extension": ".py",
   "mimetype": "text/x-python",
   "name": "python",
   "nbconvert_exporter": "python",
   "pygments_lexer": "ipython3",
   "version": "3.4.3"
  }
 },
 "nbformat": 4,
 "nbformat_minor": 0
}
