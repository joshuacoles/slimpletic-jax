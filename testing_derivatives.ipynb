{
 "cells": [
  {
   "cell_type": "code",
   "execution_count": 15,
   "id": "initial_id",
   "metadata": {
    "collapsed": true,
    "ExecuteTime": {
     "end_time": "2023-12-07T12:53:35.129317Z",
     "start_time": "2023-12-07T12:53:35.123270Z"
    }
   },
   "outputs": [],
   "source": [
    "import slimpletic as st\n",
    "import slimpletic.discretise_integral as di\n",
    "import slimpletic.ggl as ggl\n",
    "import jax.numpy as jnp\n",
    "import jax"
   ]
  },
  {
   "cell_type": "code",
   "execution_count": 3,
   "outputs": [],
   "source": [
    "def f(x, xdot, t):\n",
    "    return x"
   ],
   "metadata": {
    "collapsed": false,
    "ExecuteTime": {
     "end_time": "2023-12-07T12:51:01.228572Z",
     "start_time": "2023-12-07T12:51:01.224766Z"
    }
   },
   "id": "cc23c319d3c5277c"
  },
  {
   "cell_type": "code",
   "execution_count": 5,
   "outputs": [],
   "source": [
    "f_d, _ = di.discretise_integral(\n",
    "    r=1,\n",
    "    dt=0.1,\n",
    "    fn=f\n",
    ")"
   ],
   "metadata": {
    "collapsed": false,
    "ExecuteTime": {
     "end_time": "2023-12-07T12:51:10.922174Z",
     "start_time": "2023-12-07T12:51:10.862569Z"
    }
   },
   "id": "5aac27645ecdbc69"
  },
  {
   "cell_type": "code",
   "execution_count": 31,
   "outputs": [
    {
     "data": {
      "text/plain": "Array(0.06666667, dtype=float64)"
     },
     "execution_count": 31,
     "metadata": {},
     "output_type": "execute_result"
    }
   ],
   "source": [
    "f_d(\n",
    "    jnp.array([0, 1, 0]),\n",
    "    2\n",
    ")"
   ],
   "metadata": {
    "collapsed": false,
    "ExecuteTime": {
     "end_time": "2023-12-07T12:55:51.809179Z",
     "start_time": "2023-12-07T12:55:51.803951Z"
    }
   },
   "id": "7caec6cbe3843057"
  },
  {
   "cell_type": "code",
   "execution_count": 14,
   "outputs": [],
   "source": [
    "xs, ws, dij = ggl.dereduce(ggl.ggl(r=1), dt=0.1)"
   ],
   "metadata": {
    "collapsed": false,
    "ExecuteTime": {
     "end_time": "2023-12-07T12:53:10.003573Z",
     "start_time": "2023-12-07T12:53:09.943721Z"
    }
   },
   "id": "8ff5412fadfad249"
  },
  {
   "cell_type": "code",
   "execution_count": 21,
   "outputs": [],
   "source": [
    "dfdx = jax.grad(f)"
   ],
   "metadata": {
    "collapsed": false,
    "ExecuteTime": {
     "end_time": "2023-12-07T12:54:12.881938Z",
     "start_time": "2023-12-07T12:54:12.863071Z"
    }
   },
   "id": "8bafab1bc8b82f18"
  },
  {
   "cell_type": "code",
   "execution_count": 30,
   "outputs": [
    {
     "data": {
      "text/plain": "Array(0.1, dtype=float64)"
     },
     "execution_count": 30,
     "metadata": {},
     "output_type": "execute_result"
    }
   ],
   "source": [
    "jnp.sum(ws * jax.vmap(dfdx, (0, None, None))(jnp.array([0.0, 1, 0]), 0, 0))"
   ],
   "metadata": {
    "collapsed": false,
    "ExecuteTime": {
     "end_time": "2023-12-07T12:55:50.099042Z",
     "start_time": "2023-12-07T12:55:50.066265Z"
    }
   },
   "id": "e6cfe00c5b2965cf"
  },
  {
   "cell_type": "code",
   "execution_count": 32,
   "outputs": [],
   "source": [
    "def abc(v):\n",
    "    x = v[0]\n",
    "    y = v[1]\n",
    "    z = v[2]\n",
    "    \n",
    "    return x ** 2 + y ** 2 * x + jnp.exp(z) * 1 / x"
   ],
   "metadata": {
    "collapsed": false,
    "ExecuteTime": {
     "end_time": "2023-12-07T13:52:55.814617Z",
     "start_time": "2023-12-07T13:52:55.805313Z"
    }
   },
   "id": "80ff65a83201696c"
  },
  {
   "cell_type": "code",
   "execution_count": 33,
   "outputs": [
    {
     "data": {
      "text/plain": "Array([-14.08553692,   4.        ,  20.08553692], dtype=float64)"
     },
     "execution_count": 33,
     "metadata": {},
     "output_type": "execute_result"
    }
   ],
   "source": [
    "jax.grad(abc)(jnp.array([1.0, 2, 3]))"
   ],
   "metadata": {
    "collapsed": false,
    "ExecuteTime": {
     "end_time": "2023-12-07T13:53:01.476716Z",
     "start_time": "2023-12-07T13:53:01.268266Z"
    }
   },
   "id": "c3008e446e2fbcf1"
  },
  {
   "cell_type": "code",
   "execution_count": 34,
   "outputs": [],
   "source": [
    "def f(x):\n",
    "    return x ** 2"
   ],
   "metadata": {
    "collapsed": false,
    "ExecuteTime": {
     "end_time": "2023-12-07T14:00:13.126548Z",
     "start_time": "2023-12-07T14:00:13.089859Z"
    }
   },
   "id": "e93ec2ddb46d96d"
  },
  {
   "cell_type": "code",
   "execution_count": 54,
   "outputs": [
    {
     "data": {
      "text/plain": "Array(0.56, dtype=float64, weak_type=True)"
     },
     "execution_count": 54,
     "metadata": {},
     "output_type": "execute_result"
    }
   ],
   "source": [
    "jax.grad(lambda x: -0.1 * f(x + 0.2) + 0.2 * f(x))(3.0)"
   ],
   "metadata": {
    "collapsed": false,
    "ExecuteTime": {
     "end_time": "2023-12-07T14:01:19.596162Z",
     "start_time": "2023-12-07T14:01:19.582736Z"
    }
   },
   "id": "18b270e8a1821a7d"
  },
  {
   "cell_type": "code",
   "execution_count": null,
   "outputs": [],
   "source": [],
   "metadata": {
    "collapsed": false
   },
   "id": "3b81aef28b592a2f"
  },
  {
   "cell_type": "code",
   "execution_count": 55,
   "outputs": [
    {
     "data": {
      "text/plain": "<function slimpletic.helpers.fill_out_initial(initial, r)>"
     },
     "execution_count": 55,
     "metadata": {},
     "output_type": "execute_result"
    }
   ],
   "source": [
    "from slimpletic.helpers import fill_out_initial\n",
    "\n",
    "fill_out_initial(\n",
    "    q0\n",
    ")"
   ],
   "metadata": {
    "collapsed": false,
    "ExecuteTime": {
     "end_time": "2023-12-11T09:13:00.902278Z",
     "start_time": "2023-12-11T09:13:00.897305Z"
    }
   },
   "id": "3c75da38d0b16be4"
  },
  {
   "cell_type": "code",
   "execution_count": null,
   "outputs": [],
   "source": [],
   "metadata": {
    "collapsed": false
   },
   "id": "e72815b3ead9b924"
  }
 ],
 "metadata": {
  "kernelspec": {
   "display_name": "Python 3",
   "language": "python",
   "name": "python3"
  },
  "language_info": {
   "codemirror_mode": {
    "name": "ipython",
    "version": 2
   },
   "file_extension": ".py",
   "mimetype": "text/x-python",
   "name": "python",
   "nbconvert_exporter": "python",
   "pygments_lexer": "ipython2",
   "version": "2.7.6"
  }
 },
 "nbformat": 4,
 "nbformat_minor": 5
}
